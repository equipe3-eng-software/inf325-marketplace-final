{
 "cells": [
  {
   "cell_type": "code",
   "execution_count": 2,
   "id": "2179e6a4",
   "metadata": {
    "tags": []
   },
   "outputs": [],
   "source": [
    "from bson.objectid import ObjectId\r\n",
    "from pprintpp import pprint\r\n",
    "from db_trabalho import db"
   ]
  },
  {
   "cell_type": "markdown",
   "id": "7cbe683e",
   "metadata": {
    "tags": []
   },
   "source": [
    "# Subscriptions"
   ]
  },
  {
   "cell_type": "markdown",
   "id": "12d8d701",
   "metadata": {},
   "source": [
    "### Create"
   ]
  },
  {
   "cell_type": "code",
   "execution_count": null,
   "id": "57653e27",
   "metadata": {},
   "outputs": [],
   "source": [
    "new_docs = []\r\n",
    "db.Subscription.insert_many(new_docs)"
   ]
  },
  {
   "cell_type": "markdown",
   "id": "1b79d5ae",
   "metadata": {},
   "source": [
    "### List all"
   ]
  },
  {
   "cell_type": "code",
   "execution_count": 11,
   "id": "482958eb",
   "metadata": {},
   "outputs": [
    {
     "name": "stdout",
     "output_type": "stream",
     "text": [
      "[\n",
      "    {\n",
      "        '_id': ObjectId('6137db1a867e8ac0fd0d1ea4'),\n",
      "        'description': 'Cafe Gourmet',\n",
      "        'name': 'Café',\n",
      "        'price': '5,00',\n",
      "        'products': [{'item': '002', 'product_name': 'Café', 'qtd': 3}],\n",
      "        'recurrence': 'monthly',\n",
      "        'status': 'Ativo',\n",
      "        'type': 'drink',\n",
      "    },\n",
      "    {\n",
      "        '_id': ObjectId('6137db1a867e8ac0fd0d1ea5'),\n",
      "        'description': 'Cesta de Chocolate',\n",
      "        'name': 'Chocolate',\n",
      "        'price': '10,00',\n",
      "        'products': [\n",
      "            {'product_id': '001', 'product_name': 'Chocolate', 'qtd': 1},\n",
      "        ],\n",
      "        'recurrence': 'weekly',\n",
      "        'status': 'Ativo',\n",
      "        'type': 'candy',\n",
      "    },\n",
      "]\n"
     ]
    }
   ],
   "source": [
    "docs = db.Subscription.find().limit(10)\r\n",
    "pprint(list(docs))"
   ]
  },
  {
   "cell_type": "markdown",
   "id": "00f13c54",
   "metadata": {},
   "source": [
    "### Update by object id"
   ]
  },
  {
   "cell_type": "code",
   "execution_count": 10,
   "id": "11d14c81",
   "metadata": {},
   "outputs": [
    {
     "data": {
      "text/plain": [
       "<pymongo.results.UpdateResult at 0x1e047bd6540>"
      ]
     },
     "execution_count": 10,
     "metadata": {},
     "output_type": "execute_result"
    }
   ],
   "source": [
    "db.Subscription.update_one(\r\n",
    "    {\"_id\": ObjectId(\"6137db1a867e8ac0fd0d1ea5\")},\r\n",
    "    {\r\n",
    "        \"$set\": {\r\n",
    "            'type': 'candy',\r\n",
    "            'recurrence': 'weekly'\r\n",
    "        }\r\n",
    "    },\r\n",
    "    upsert=False\r\n",
    ")\r\n"
   ]
  },
  {
   "cell_type": "markdown",
   "id": "2b2703d4",
   "metadata": {},
   "source": [
    "### Delete by object id"
   ]
  },
  {
   "cell_type": "code",
   "execution_count": null,
   "id": "ed063c07",
   "metadata": {},
   "outputs": [],
   "source": [
    "db.Subscription.delete_one({ \"_id\": ObjectId(\"6139460a33d5c70133145a1f\") })"
   ]
  }
 ],
 "metadata": {
  "interpreter": {
   "hash": "baacd89bf0299d856a6d7eb543c351146d15f47379e4c8c5cbcfb4329735e60b"
  },
  "kernelspec": {
   "display_name": "Python 3 (ipykernel)",
   "language": "python",
   "name": "python3"
  },
  "language_info": {
   "codemirror_mode": {
    "name": "ipython",
    "version": 3
   },
   "file_extension": ".py",
   "mimetype": "text/x-python",
   "name": "python",
   "nbconvert_exporter": "python",
   "pygments_lexer": "ipython3",
   "version": "3.9.7"
  }
 },
 "nbformat": 4,
 "nbformat_minor": 5
}
