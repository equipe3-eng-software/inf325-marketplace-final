{
 "cells": [
  {
   "cell_type": "code",
   "execution_count": 2,
   "source": [
    "from bson.objectid import ObjectId\r\n",
    "from pprintpp import pprint\r\n",
    "from db_connect import db"
   ],
   "outputs": [],
   "metadata": {
    "tags": []
   }
  },
  {
   "cell_type": "markdown",
   "source": [
    "# Subscriptions"
   ],
   "metadata": {
    "tags": []
   }
  },
  {
   "cell_type": "markdown",
   "source": [
    "### Create"
   ],
   "metadata": {}
  },
  {
   "cell_type": "code",
   "execution_count": null,
   "source": [
    "new_docs = []\r\n",
    "db.Subscription.insert_many(new_docs)"
   ],
   "outputs": [],
   "metadata": {}
  },
  {
   "cell_type": "markdown",
   "source": [
    "### List all"
   ],
   "metadata": {}
  },
  {
   "cell_type": "code",
   "execution_count": 11,
   "source": [
    "docs = db.Subscription.find().limit(10)\r\n",
    "pprint(list(docs))"
   ],
   "outputs": [
    {
     "output_type": "stream",
     "name": "stdout",
     "text": [
      "[\n",
      "    {\n",
      "        '_id': ObjectId('6137db1a867e8ac0fd0d1ea4'),\n",
      "        'description': 'Cafe Gourmet',\n",
      "        'name': 'Café',\n",
      "        'price': '5,00',\n",
      "        'products': [{'item': '002', 'product_name': 'Café', 'qtd': 3}],\n",
      "        'recurrence': 'monthly',\n",
      "        'status': 'Ativo',\n",
      "        'type': 'drink',\n",
      "    },\n",
      "    {\n",
      "        '_id': ObjectId('6137db1a867e8ac0fd0d1ea5'),\n",
      "        'description': 'Cesta de Chocolate',\n",
      "        'name': 'Chocolate',\n",
      "        'price': '10,00',\n",
      "        'products': [\n",
      "            {'product_id': '001', 'product_name': 'Chocolate', 'qtd': 1},\n",
      "        ],\n",
      "        'recurrence': 'weekly',\n",
      "        'status': 'Ativo',\n",
      "        'type': 'candy',\n",
      "    },\n",
      "]\n"
     ]
    }
   ],
   "metadata": {}
  },
  {
   "cell_type": "markdown",
   "source": [
    "### Update by object id"
   ],
   "metadata": {}
  },
  {
   "cell_type": "code",
   "execution_count": 10,
   "source": [
    "db.Subscription.update_one(\r\n",
    "    {\"_id\": ObjectId(\"6137db1a867e8ac0fd0d1ea5\")},\r\n",
    "    {\r\n",
    "        \"$set\": {\r\n",
    "            'type': 'candy',\r\n",
    "            'recurrence': 'weekly'\r\n",
    "        }\r\n",
    "    },\r\n",
    "    upsert=False\r\n",
    ")\r\n"
   ],
   "outputs": [
    {
     "output_type": "execute_result",
     "data": {
      "text/plain": [
       "<pymongo.results.UpdateResult at 0x1e047bd6540>"
      ]
     },
     "metadata": {},
     "execution_count": 10
    }
   ],
   "metadata": {}
  },
  {
   "cell_type": "markdown",
   "source": [
    "### Delete by object id"
   ],
   "metadata": {}
  },
  {
   "cell_type": "code",
   "execution_count": null,
   "source": [
    "db.Subscription.delete_one({ \"_id\": ObjectId(\"6139460a33d5c70133145a1f\") })"
   ],
   "outputs": [],
   "metadata": {}
  }
 ],
 "metadata": {
  "kernelspec": {
   "name": "python3",
   "display_name": "Python 3.8.5 64-bit ('.venv')"
  },
  "language_info": {
   "codemirror_mode": {
    "name": "ipython",
    "version": 3
   },
   "file_extension": ".py",
   "mimetype": "text/x-python",
   "name": "python",
   "nbconvert_exporter": "python",
   "pygments_lexer": "ipython3",
   "version": "3.9.7"
  },
  "interpreter": {
   "hash": "baacd89bf0299d856a6d7eb543c351146d15f47379e4c8c5cbcfb4329735e60b"
  }
 },
 "nbformat": 4,
 "nbformat_minor": 5
}