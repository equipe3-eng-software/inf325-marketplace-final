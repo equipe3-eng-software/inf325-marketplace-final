{
 "cells": [
  {
   "cell_type": "code",
   "execution_count": null,
   "source": [
    "from bson.objectid import ObjectId\r\n",
    "from pprintpp import pprint\r\n",
    "from db_trabalho import db"
   ],
   "outputs": [],
   "metadata": {
    "tags": []
   }
  },
  {
   "cell_type": "markdown",
   "source": [
    "# Products"
   ],
   "metadata": {
    "tags": []
   }
  },
  {
   "cell_type": "markdown",
   "source": [
    "### Create"
   ],
   "metadata": {}
  },
  {
   "cell_type": "code",
   "execution_count": null,
   "source": [
    "new_docs = []\r\n",
    "db.Product.insert_many(new_docs)"
   ],
   "outputs": [],
   "metadata": {}
  },
  {
   "cell_type": "markdown",
   "source": [
    "### List all"
   ],
   "metadata": {}
  },
  {
   "cell_type": "code",
   "execution_count": null,
   "source": [
    "docs = db.Product.find().limit(10)\r\n",
    "pprint(list(docs))"
   ],
   "outputs": [],
   "metadata": {}
  },
  {
   "cell_type": "markdown",
   "source": [
    "### Update by object id"
   ],
   "metadata": {}
  },
  {
   "cell_type": "code",
   "execution_count": null,
   "source": [
    "db.Product.update_one(\r\n",
    "    {\"_id\": ObjectId(\"6137dbaa76d2a15366273f81\")},\r\n",
    "    {\r\n",
    "        \"$set\": {\r\n",
    "            'product_name': 'Café',\r\n",
    "        }\r\n",
    "    },\r\n",
    "    upsert=False\r\n",
    ")\r\n"
   ],
   "outputs": [],
   "metadata": {}
  },
  {
   "cell_type": "markdown",
   "source": [
    "### Delete by object id"
   ],
   "metadata": {}
  },
  {
   "cell_type": "code",
   "execution_count": null,
   "source": [
    "db.Product.delete_one({ \"_id\": ObjectId(\"6139460a33d5c70133145a1f\") })"
   ],
   "outputs": [],
   "metadata": {}
  }
 ],
 "metadata": {
  "kernelspec": {
   "name": "python3",
   "display_name": "Python 3.9.7 64-bit ('.venv': venv)"
  },
  "language_info": {
   "codemirror_mode": {
    "name": "ipython",
    "version": 3
   },
   "file_extension": ".py",
   "mimetype": "text/x-python",
   "name": "python",
   "nbconvert_exporter": "python",
   "pygments_lexer": "ipython3",
   "version": "3.9.7"
  },
  "interpreter": {
   "hash": "baacd89bf0299d856a6d7eb543c351146d15f47379e4c8c5cbcfb4329735e60b"
  }
 },
 "nbformat": 4,
 "nbformat_minor": 5
}