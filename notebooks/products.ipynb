{
 "cells": [
  {
   "cell_type": "code",
   "execution_count": 2,
   "source": [
    "from bson.objectid import ObjectId\r\n",
    "from pprintpp import pprint\r\n",
    "from db_connect import db"
   ],
   "outputs": [],
   "metadata": {
    "tags": []
   }
  },
  {
   "cell_type": "markdown",
   "source": [
    "# Products"
   ],
   "metadata": {
    "tags": []
   }
  },
  {
   "cell_type": "markdown",
   "source": [
    "### Create"
   ],
   "metadata": {}
  },
  {
   "cell_type": "code",
   "execution_count": null,
   "source": [
    "new_docs = []\r\n",
    "db.Product.insert_many(new_docs)"
   ],
   "outputs": [],
   "metadata": {}
  },
  {
   "cell_type": "markdown",
   "source": [
    "### List all"
   ],
   "metadata": {}
  },
  {
   "cell_type": "code",
   "execution_count": 4,
   "source": [
    "docs = db.Product.find().limit(10)\r\n",
    "pprint(list(docs))"
   ],
   "outputs": [
    {
     "output_type": "stream",
     "name": "stdout",
     "text": [
      "[\n",
      "    {\n",
      "        '_id': ObjectId('6137dbaa76d2a15366273f80'),\n",
      "        'description': 'Cesta de Chocolate',\n",
      "        'item': '001',\n",
      "        'product_name': 'Chocolate',\n",
      "        'size': '50',\n",
      "        'sku': 'cesta-chocolate-001',\n",
      "    },\n",
      "    {\n",
      "        '_id': ObjectId('6137dbaa76d2a15366273f81'),\n",
      "        'description': 'Cafe Gourmet',\n",
      "        'item': '002',\n",
      "        'product_name': 'cafe',\n",
      "        'size': '100',\n",
      "        'sku': 'cafe-gourmet-001',\n",
      "    },\n",
      "    {\n",
      "        '_id': ObjectId('6139462533d5c70133145a20'),\n",
      "        'description': 'Test Edited',\n",
      "        'item': '123',\n",
      "        'product_name': 'test',\n",
      "        'size': '1',\n",
      "        'sku': 'test-123',\n",
      "    },\n",
      "]\n"
     ]
    }
   ],
   "metadata": {}
  },
  {
   "cell_type": "markdown",
   "source": [
    "### Update by object id"
   ],
   "metadata": {}
  },
  {
   "cell_type": "code",
   "execution_count": 5,
   "source": [
    "db.Product.update_one(\r\n",
    "    {\"_id\": ObjectId(\"6137dbaa76d2a15366273f81\")},\r\n",
    "    {\r\n",
    "        \"$set\": {\r\n",
    "            'product_name': 'Café',\r\n",
    "        }\r\n",
    "    },\r\n",
    "    upsert=False\r\n",
    ")\r\n"
   ],
   "outputs": [
    {
     "output_type": "execute_result",
     "data": {
      "text/plain": [
       "<pymongo.results.UpdateResult at 0x1b290d95700>"
      ]
     },
     "metadata": {},
     "execution_count": 5
    }
   ],
   "metadata": {}
  },
  {
   "cell_type": "markdown",
   "source": [
    "### Delete by object id"
   ],
   "metadata": {}
  },
  {
   "cell_type": "code",
   "execution_count": null,
   "source": [
    "db.Product.delete_one({ \"_id\": ObjectId(\"6139460a33d5c70133145a1f\") })"
   ],
   "outputs": [],
   "metadata": {}
  }
 ],
 "metadata": {
  "kernelspec": {
   "name": "python3",
   "display_name": "Python 3.8.5 64-bit ('.venv')"
  },
  "language_info": {
   "codemirror_mode": {
    "name": "ipython",
    "version": 3
   },
   "file_extension": ".py",
   "mimetype": "text/x-python",
   "name": "python",
   "nbconvert_exporter": "python",
   "pygments_lexer": "ipython3",
   "version": "3.9.7"
  },
  "interpreter": {
   "hash": "baacd89bf0299d856a6d7eb543c351146d15f47379e4c8c5cbcfb4329735e60b"
  }
 },
 "nbformat": 4,
 "nbformat_minor": 5
}