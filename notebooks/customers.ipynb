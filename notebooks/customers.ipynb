{
 "cells": [
  {
   "cell_type": "code",
   "execution_count": 1,
   "id": "18cee2b2",
   "metadata": {
    "tags": []
   },
   "outputs": [],
   "source": [
    "from bson.objectid import ObjectId\r\n",
    "from pprintpp import pprint\r\n",
    "from db_trabalho import db"
   ]
  },
  {
   "cell_type": "markdown",
   "id": "fead761e",
   "metadata": {
    "tags": []
   },
   "source": [
    "# Customers"
   ]
  },
  {
   "cell_type": "markdown",
   "id": "b000312b",
   "metadata": {},
   "source": [
    "### Create"
   ]
  },
  {
   "cell_type": "code",
   "execution_count": null,
   "id": "b3d13aaa",
   "metadata": {},
   "outputs": [],
   "source": [
    "new_docs = []\r\n",
    "db.Customer.insert_many(new_docs)"
   ]
  },
  {
   "cell_type": "markdown",
   "id": "c774664d",
   "metadata": {},
   "source": [
    "### List all"
   ]
  },
  {
   "cell_type": "code",
   "execution_count": 3,
   "id": "3ffbe7fa",
   "metadata": {},
   "outputs": [
    {
     "name": "stdout",
     "output_type": "stream",
     "text": [
      "[\n",
      "    {\n",
      "        '_id': ObjectId('6137d4bc9b9bf94ef845119f'),\n",
      "        'address': 'Avenida Paulista',\n",
      "        'city': 'São Paulo',\n",
      "        'country': 'Brasil',\n",
      "        'email': 'jean.silva@gmail.com',\n",
      "        'lastname': 'Silva',\n",
      "        'membership': 'Basic',\n",
      "        'name': 'Jean',\n",
      "        'password': 'marketplace@2021',\n",
      "        'payment': 'Cartão de Crédito',\n",
      "        'postal_code': '12345-500',\n",
      "        'status': 'Ativo',\n",
      "        'subscription': 'Café',\n",
      "        'username': 'jean.silva',\n",
      "    },\n",
      "    {\n",
      "        '_id': ObjectId('6137d5c8c2b269b1209f219d'),\n",
      "        'address': 'Rua Vergueiro',\n",
      "        'city': 'São Paulo',\n",
      "        'country': 'Brasil',\n",
      "        'email': 'lucas.franzolin@gmail.com',\n",
      "        'lastname': 'Franzolin',\n",
      "        'membership': 'Platinum',\n",
      "        'name': 'Lucas',\n",
      "        'password': 'marketplace@2021',\n",
      "        'payment': 'Boleto',\n",
      "        'postal_code': '12345-501',\n",
      "        'status': 'Ativo',\n",
      "        'subscription': 'Chocolate',\n",
      "        'username': 'lucas.franzolin',\n",
      "    },\n",
      "    {\n",
      "        '_id': ObjectId('6137d5c8c2b269b1209f219e'),\n",
      "        'address': 'Rua Brigadeiro Luis Antonio',\n",
      "        'city': 'São Paulo',\n",
      "        'country': 'Brasil',\n",
      "        'email': 'luis.costa@gmail.com',\n",
      "        'lastname': 'G. Costa',\n",
      "        'membership': 'Gold',\n",
      "        'name': 'Luís',\n",
      "        'password': 'marketplace@2021',\n",
      "        'payment': 'Cartão de Crédito',\n",
      "        'postal_code': '12345-502',\n",
      "        'status': 'Ativo',\n",
      "        'subscription': 'Café',\n",
      "        'username': 'luis.costa',\n",
      "    },\n",
      "    {\n",
      "        '_id': ObjectId('6137d5c8c2b269b1209f219f'),\n",
      "        'address': 'Avenida Ibirapuera',\n",
      "        'city': 'São Paulo',\n",
      "        'country': 'Brasil',\n",
      "        'email': 'marina.soares@gmail.com',\n",
      "        'lastname': 'Soares',\n",
      "        'membership': 'Silver',\n",
      "        'name': 'Marina',\n",
      "        'password': 'marketplace@2021',\n",
      "        'payment': 'Pix',\n",
      "        'postal_code': '12345-503',\n",
      "        'status': 'Ativo',\n",
      "        'subscription': 'Café',\n",
      "        'username': 'marina.soares',\n",
      "    },\n",
      "    {\n",
      "        '_id': ObjectId('6137d5c8c2b269b1209f21a0'),\n",
      "        'address': 'Avenida Morumbi',\n",
      "        'city': 'São Paulo',\n",
      "        'country': 'Brasil',\n",
      "        'email': 'victor.oliveira@gmail.com',\n",
      "        'lastname': 'H. Oliveira',\n",
      "        'membership': 'Platinum',\n",
      "        'name': 'Victor',\n",
      "        'password': 'marketplace@2021',\n",
      "        'payment': 'Boleto',\n",
      "        'postal_code': '12345-504',\n",
      "        'status': 'Ativo',\n",
      "        'subscription': 'Chocolate',\n",
      "        'username': 'victor.oliveira',\n",
      "    },\n",
      "]\n"
     ]
    }
   ],
   "source": [
    "docs = db.Customer.find().limit(10)\r\n",
    "pprint(list(docs))"
   ]
  },
  {
   "cell_type": "markdown",
   "id": "9da05e4f",
   "metadata": {},
   "source": [
    "### Update by object id"
   ]
  },
  {
   "cell_type": "code",
   "execution_count": null,
   "id": "ad9039a7",
   "metadata": {},
   "outputs": [],
   "source": [
    "db.Customer.update_one(\r\n",
    "    { \"_id\": ObjectId(\"6139462533d5c70133145a20\") },\r\n",
    "    {\r\n",
    "        \"$set\": {}\r\n",
    "    },\r\n",
    "    upsert=False\r\n",
    ")"
   ]
  },
  {
   "cell_type": "markdown",
   "id": "bf8acc41",
   "metadata": {},
   "source": [
    "### Delete by object id"
   ]
  },
  {
   "cell_type": "code",
   "execution_count": null,
   "id": "1183fbe5",
   "metadata": {},
   "outputs": [],
   "source": [
    "db.Customer.delete_one({ \"_id\": ObjectId(\"6139460a33d5c70133145a1f\") })"
   ]
  }
 ],
 "metadata": {
  "interpreter": {
   "hash": "baacd89bf0299d856a6d7eb543c351146d15f47379e4c8c5cbcfb4329735e60b"
  },
  "kernelspec": {
   "display_name": "Python 3 (ipykernel)",
   "language": "python",
   "name": "python3"
  },
  "language_info": {
   "codemirror_mode": {
    "name": "ipython",
    "version": 3
   },
   "file_extension": ".py",
   "mimetype": "text/x-python",
   "name": "python",
   "nbconvert_exporter": "python",
   "pygments_lexer": "ipython3",
   "version": "3.9.7"
  }
 },
 "nbformat": 4,
 "nbformat_minor": 5
}
