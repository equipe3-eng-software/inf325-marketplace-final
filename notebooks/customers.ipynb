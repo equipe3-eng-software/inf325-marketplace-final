{
 "cells": [
  {
   "cell_type": "code",
   "execution_count": null,
   "id": "91d6f9e3",
   "metadata": {
    "tags": []
   },
   "outputs": [],
   "source": [
    "from bson.objectid import ObjectId\r\n",
    "from pprintpp import pprint\r\n",
    "from db_trabalho import db"
   ]
  },
  {
   "cell_type": "markdown",
   "id": "dee8027e",
   "metadata": {
    "tags": []
   },
   "source": [
    "# Customers"
   ]
  },
  {
   "cell_type": "markdown",
   "id": "02bd38cb",
   "metadata": {},
   "source": [
    "### Create"
   ]
  },
  {
   "cell_type": "code",
   "execution_count": null,
   "id": "7130da5f",
   "metadata": {},
   "outputs": [],
   "source": [
    "new_docs = []\r\n",
    "db.Customer.insert_many(new_docs)"
   ]
  },
  {
   "cell_type": "markdown",
   "id": "cafe895e",
   "metadata": {},
   "source": [
    "### List all"
   ]
  },
  {
   "cell_type": "code",
   "execution_count": null,
   "id": "028dd1cf",
   "metadata": {},
   "outputs": [],
   "source": [
    "docs = db.Customer.find().limit(10)\r\n",
    "pprint(list(docs))"
   ]
  },
  {
   "cell_type": "markdown",
   "id": "9785208b",
   "metadata": {},
   "source": [
    "### Update by object id"
   ]
  },
  {
   "cell_type": "code",
   "execution_count": null,
   "id": "67cc7c9e",
   "metadata": {},
   "outputs": [],
   "source": [
    "db.Customer.update_one(\r\n",
    "    { \"_id\": ObjectId(\"6139462533d5c70133145a20\") },\r\n",
    "    {\r\n",
    "        \"$set\": {}\r\n",
    "    },\r\n",
    "    upsert=False\r\n",
    ")"
   ]
  },
  {
   "cell_type": "markdown",
   "id": "d524cec5",
   "metadata": {},
   "source": [
    "### Delete by object id"
   ]
  },
  {
   "cell_type": "code",
   "execution_count": null,
   "id": "d304f937",
   "metadata": {},
   "outputs": [],
   "source": [
    "db.Customer.delete_one({ \"_id\": ObjectId(\"6139460a33d5c70133145a1f\") })"
   ]
  }
 ],
 "metadata": {
  "interpreter": {
   "hash": "baacd89bf0299d856a6d7eb543c351146d15f47379e4c8c5cbcfb4329735e60b"
  },
  "kernelspec": {
   "display_name": "Python 3 (ipykernel)",
   "language": "python",
   "name": "python3"
  },
  "language_info": {
   "codemirror_mode": {
    "name": "ipython",
    "version": 3
   },
   "file_extension": ".py",
   "mimetype": "text/x-python",
   "name": "python",
   "nbconvert_exporter": "python",
   "pygments_lexer": "ipython3",
   "version": "3.9.7"
  }
 },
 "nbformat": 4,
 "nbformat_minor": 5
}
