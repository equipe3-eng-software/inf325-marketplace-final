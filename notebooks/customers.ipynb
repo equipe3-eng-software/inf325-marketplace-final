{
 "cells": [
  {
   "cell_type": "code",
   "execution_count": 2,
   "source": [
    "from bson.objectid import ObjectId\r\n",
    "from pprintpp import pprint\r\n",
    "from db_connect import db"
   ],
   "outputs": [],
   "metadata": {
    "tags": []
   }
  },
  {
   "cell_type": "markdown",
   "source": [
    "# Customers"
   ],
   "metadata": {
    "tags": []
   }
  },
  {
   "cell_type": "markdown",
   "source": [
    "### Create"
   ],
   "metadata": {}
  },
  {
   "cell_type": "code",
   "execution_count": null,
   "source": [
    "new_docs = []\r\n",
    "db.Customer.insert_many(new_docs)"
   ],
   "outputs": [],
   "metadata": {}
  },
  {
   "cell_type": "markdown",
   "source": [
    "### List all"
   ],
   "metadata": {}
  },
  {
   "cell_type": "code",
   "execution_count": 3,
   "source": [
    "docs = db.Customer.find().limit(10)\r\n",
    "pprint(list(docs))"
   ],
   "outputs": [
    {
     "output_type": "stream",
     "name": "stdout",
     "text": [
      "[\n",
      "    {\n",
      "        '_id': ObjectId('6137d4bc9b9bf94ef845119f'),\n",
      "        'address': 'Avenida Paulista',\n",
      "        'city': 'São Paulo',\n",
      "        'country': 'Brasil',\n",
      "        'email': 'jean.silva@gmail.com',\n",
      "        'lastname': 'Silva',\n",
      "        'membership': 'Basic',\n",
      "        'name': 'Jean',\n",
      "        'password': 'marketplace@2021',\n",
      "        'payment': 'Cartão de Crédito',\n",
      "        'postal_code': '12345-500',\n",
      "        'status': 'Ativo',\n",
      "        'subscription': 'Café',\n",
      "        'username': 'jean.silva',\n",
      "    },\n",
      "    {\n",
      "        '_id': ObjectId('6137d5c8c2b269b1209f219d'),\n",
      "        'address': 'Rua Vergueiro',\n",
      "        'city': 'São Paulo',\n",
      "        'country': 'Brasil',\n",
      "        'email': 'lucas.franzolin@gmail.com',\n",
      "        'lastname': 'Franzolin',\n",
      "        'membership': 'Platinum',\n",
      "        'name': 'Lucas',\n",
      "        'password': 'marketplace@2021',\n",
      "        'payment': 'Boleto',\n",
      "        'postal_code': '12345-501',\n",
      "        'status': 'Ativo',\n",
      "        'subscription': 'Chocolate',\n",
      "        'username': 'lucas.franzolin',\n",
      "    },\n",
      "    {\n",
      "        '_id': ObjectId('6137d5c8c2b269b1209f219e'),\n",
      "        'address': 'Rua Brigadeiro Luis Antonio',\n",
      "        'city': 'São Paulo',\n",
      "        'country': 'Brasil',\n",
      "        'email': 'luis.costa@gmail.com',\n",
      "        'lastname': 'G. Costa',\n",
      "        'membership': 'Gold',\n",
      "        'name': 'Luís',\n",
      "        'password': 'marketplace@2021',\n",
      "        'payment': 'Cartão de Crédito',\n",
      "        'postal_code': '12345-502',\n",
      "        'status': 'Ativo',\n",
      "        'subscription': 'Café',\n",
      "        'username': 'luis.costa',\n",
      "    },\n",
      "    {\n",
      "        '_id': ObjectId('6137d5c8c2b269b1209f219f'),\n",
      "        'address': 'Avenida Ibirapuera',\n",
      "        'city': 'São Paulo',\n",
      "        'country': 'Brasil',\n",
      "        'email': 'marina.soares@gmail.com',\n",
      "        'lastname': 'Soares',\n",
      "        'membership': 'Silver',\n",
      "        'name': 'Marina',\n",
      "        'password': 'marketplace@2021',\n",
      "        'payment': 'Pix',\n",
      "        'postal_code': '12345-503',\n",
      "        'status': 'Ativo',\n",
      "        'subscription': 'Café',\n",
      "        'username': 'marina.soares',\n",
      "    },\n",
      "    {\n",
      "        '_id': ObjectId('6137d5c8c2b269b1209f21a0'),\n",
      "        'address': 'Avenida Morumbi',\n",
      "        'city': 'São Paulo',\n",
      "        'country': 'Brasil',\n",
      "        'email': 'victor.oliveira@gmail.com',\n",
      "        'lastname': 'H. Oliveira',\n",
      "        'membership': 'Platinum',\n",
      "        'name': 'Victor',\n",
      "        'password': 'marketplace@2021',\n",
      "        'payment': 'Boleto',\n",
      "        'postal_code': '12345-504',\n",
      "        'status': 'Ativo',\n",
      "        'subscription': 'Chocolate',\n",
      "        'username': 'victor.oliveira',\n",
      "    },\n",
      "]\n"
     ]
    }
   ],
   "metadata": {}
  },
  {
   "cell_type": "markdown",
   "source": [
    "### Update by object id"
   ],
   "metadata": {}
  },
  {
   "cell_type": "code",
   "execution_count": null,
   "source": [
    "db.Customer.update_one(\r\n",
    "    { \"_id\": ObjectId(\"6139462533d5c70133145a20\") },\r\n",
    "    {\r\n",
    "        \"$set\": {}\r\n",
    "    },\r\n",
    "    upsert=False\r\n",
    ")"
   ],
   "outputs": [],
   "metadata": {}
  },
  {
   "cell_type": "markdown",
   "source": [
    "### Delete by object id"
   ],
   "metadata": {}
  },
  {
   "cell_type": "code",
   "execution_count": null,
   "source": [
    "db.Customer.delete_one({ \"_id\": ObjectId(\"6139460a33d5c70133145a1f\") })"
   ],
   "outputs": [],
   "metadata": {}
  }
 ],
 "metadata": {
  "kernelspec": {
   "name": "python3",
   "display_name": "Python 3.8.5 64-bit ('.venv')"
  },
  "language_info": {
   "codemirror_mode": {
    "name": "ipython",
    "version": 3
   },
   "file_extension": ".py",
   "mimetype": "text/x-python",
   "name": "python",
   "nbconvert_exporter": "python",
   "pygments_lexer": "ipython3",
   "version": "3.9.7"
  },
  "interpreter": {
   "hash": "baacd89bf0299d856a6d7eb543c351146d15f47379e4c8c5cbcfb4329735e60b"
  }
 },
 "nbformat": 4,
 "nbformat_minor": 5
}