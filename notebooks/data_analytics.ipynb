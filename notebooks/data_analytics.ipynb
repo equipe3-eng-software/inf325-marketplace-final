{
 "cells": [
  {
   "cell_type": "markdown",
   "source": [
    "# Análise dos dados"
   ],
   "metadata": {}
  },
  {
   "cell_type": "markdown",
   "source": [
    "### 1. Quantos assinantes são membros tipo \"Gold\"?"
   ],
   "metadata": {}
  },
  {
   "cell_type": "markdown",
   "source": [
    "### 2."
   ],
   "metadata": {}
  },
  {
   "cell_type": "markdown",
   "source": [
    "### 3."
   ],
   "metadata": {}
  }
 ],
 "metadata": {
  "orig_nbformat": 4,
  "language_info": {
   "name": "python",
   "version": "3.9.7"
  },
  "kernelspec": {
   "name": "python3",
   "display_name": "Python 3.8.5 64-bit ('.venv')"
  },
  "interpreter": {
   "hash": "baacd89bf0299d856a6d7eb543c351146d15f47379e4c8c5cbcfb4329735e60b"
  }
 },
 "nbformat": 4,
 "nbformat_minor": 2
}