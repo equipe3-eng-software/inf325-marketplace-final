{
 "cells": [
  {
   "cell_type": "code",
   "execution_count": 1,
   "source": [
    "from bson.objectid import ObjectId\r\n",
    "from pprintpp import pprint\r\n",
    "from db_trabalho import db\r\n",
    "from plotly.offline import iplot\r\n",
    "import chart_studio.plotly as py\r\n",
    "import cufflinks as cf\r\n",
    "import pandas as pd\r\n",
    "import numpy as np"
   ],
   "outputs": [],
   "metadata": {}
  },
  {
   "cell_type": "markdown",
   "source": [
    "# Análise dos dados"
   ],
   "metadata": {}
  },
  {
   "cell_type": "markdown",
   "source": [
    "### 1. Quantos assinantes são membros tipo \"Gold\"?"
   ],
   "metadata": {}
  },
  {
   "cell_type": "code",
   "execution_count": 21,
   "source": [
    "docs = db.Membership.find({\"membership\": \"Gold\"}).limit(10)\r\n",
    "pprint(list(docs))"
   ],
   "outputs": [
    {
     "output_type": "stream",
     "name": "stdout",
     "text": [
      "[\n",
      "    {\n",
      "        '_id': ObjectId('6137d7fc34e1f14b7da1264d'),\n",
      "        'address': 'Rua Brigadeiro Luis Antonio',\n",
      "        'city': 'São Paulo',\n",
      "        'country': 'Brasil',\n",
      "        'email': 'luis.costa@gmail.com',\n",
      "        'lastname': 'G. Costa',\n",
      "        'membership': 'Gold',\n",
      "        'name': 'Luís',\n",
      "        'password': 'marketplace@2021',\n",
      "        'payment': 'Cartão de Crédito',\n",
      "        'postal_code': '12345-502',\n",
      "        'status': 'Ativo',\n",
      "        'subscription': 'Café',\n",
      "        'username': 'luis.costa',\n",
      "    },\n",
      "    {\n",
      "        '_id': ObjectId('613ab12cd12d2b64b277ef0a'),\n",
      "        'address': 'Rua Brigadeiro Luis Antonio',\n",
      "        'city': 'SÃ£o Paulo',\n",
      "        'country': 'Brasil',\n",
      "        'email': 'luis.costa@gmail.com',\n",
      "        'lastname': 'G. Costa',\n",
      "        'membership': 'Gold',\n",
      "        'name': 'LuÃ\\xads',\n",
      "        'password': 'marketplace@2021',\n",
      "        'payment': 'CartÃ£o de CrÃ©dito',\n",
      "        'postal_code': '12345-502',\n",
      "        'status': 'Ativo',\n",
      "        'subscription': 'CafÃ©',\n",
      "        'username': 'luis.costa',\n",
      "    },\n",
      "    {\n",
      "        '_id': ObjectId('613bf6065fc55c7e264649a1'),\n",
      "        'address': 'Rua Brigadeiro Luis Antonio',\n",
      "        'city': 'SÃ£o Paulo',\n",
      "        'country': 'Brasil',\n",
      "        'email': 'luis.costa@gmail.com',\n",
      "        'lastname': 'G. Costa',\n",
      "        'membership': 'Gold',\n",
      "        'name': 'LuÃ\\xads',\n",
      "        'password': 'marketplace@2021',\n",
      "        'payment': 'CartÃ£o de CrÃ©dito',\n",
      "        'postal_code': '12345-502',\n",
      "        'status': 'Ativo',\n",
      "        'subscription': 'CafÃ©',\n",
      "        'username': 'luis.costa',\n",
      "    },\n",
      "]\n"
     ]
    }
   ],
   "metadata": {}
  },
  {
   "cell_type": "code",
   "execution_count": 12,
   "source": [
    "df = pd.DataFrame(db.Membership.find({\"membership\": \"Gold\"}), columns=[])\r\n",
    "df.head()"
   ],
   "outputs": [
    {
     "output_type": "execute_result",
     "data": {
      "text/html": [
       "<div>\n",
       "<style scoped>\n",
       "    .dataframe tbody tr th:only-of-type {\n",
       "        vertical-align: middle;\n",
       "    }\n",
       "\n",
       "    .dataframe tbody tr th {\n",
       "        vertical-align: top;\n",
       "    }\n",
       "\n",
       "    .dataframe thead th {\n",
       "        text-align: right;\n",
       "    }\n",
       "</style>\n",
       "<table border=\"1\" class=\"dataframe\">\n",
       "  <thead>\n",
       "    <tr style=\"text-align: right;\">\n",
       "      <th></th>\n",
       "    </tr>\n",
       "  </thead>\n",
       "  <tbody>\n",
       "    <tr>\n",
       "      <th>0</th>\n",
       "    </tr>\n",
       "    <tr>\n",
       "      <th>1</th>\n",
       "    </tr>\n",
       "    <tr>\n",
       "      <th>2</th>\n",
       "    </tr>\n",
       "  </tbody>\n",
       "</table>\n",
       "</div>"
      ],
      "text/plain": [
       "Empty DataFrame\n",
       "Columns: []\n",
       "Index: [0, 1, 2]"
      ]
     },
     "metadata": {},
     "execution_count": 12
    }
   ],
   "metadata": {}
  },
  {
   "cell_type": "code",
   "execution_count": 13,
   "source": [
    " cf.go_offline()"
   ],
   "outputs": [
    {
     "output_type": "display_data",
     "data": {
      "text/html": [
       "        <script type=\"text/javascript\">\n",
       "        window.PlotlyConfig = {MathJaxConfig: 'local'};\n",
       "        if (window.MathJax) {MathJax.Hub.Config({SVG: {font: \"STIX-Web\"}});}\n",
       "        if (typeof require !== 'undefined') {\n",
       "        require.undef(\"plotly\");\n",
       "        requirejs.config({\n",
       "            paths: {\n",
       "                'plotly': ['https://cdn.plot.ly/plotly-2.4.2.min']\n",
       "            }\n",
       "        });\n",
       "        require(['plotly'], function(Plotly) {\n",
       "            window._Plotly = Plotly;\n",
       "        });\n",
       "        }\n",
       "        </script>\n",
       "        "
      ]
     },
     "metadata": {}
    }
   ],
   "metadata": {}
  },
  {
   "cell_type": "markdown",
   "source": [
    "### 2. Quantos assinantes são do tipo \"Silver\"?"
   ],
   "metadata": {}
  },
  {
   "cell_type": "code",
   "execution_count": 22,
   "source": [
    "docs = db.Membership.find({\"membership\": \"Silver\"}).limit(10)\r\n",
    "pprint(list(docs))"
   ],
   "outputs": [
    {
     "output_type": "stream",
     "name": "stdout",
     "text": [
      "[\n",
      "    {\n",
      "        '_id': ObjectId('6137d7fc34e1f14b7da1264b'),\n",
      "        'address': 'Avenida Ibirapuera',\n",
      "        'city': 'São Paulo',\n",
      "        'country': 'Brasil',\n",
      "        'email': 'marina.soares@gmail.com',\n",
      "        'lastname': 'Soares',\n",
      "        'membership': 'Silver',\n",
      "        'name': 'Marina',\n",
      "        'password': 'marketplace@2021',\n",
      "        'payment': 'Pix',\n",
      "        'postal_code': '12345-503',\n",
      "        'status': 'Ativo',\n",
      "        'subscription': 'Café',\n",
      "        'username': 'marina.soares',\n",
      "    },\n",
      "    {\n",
      "        '_id': ObjectId('613ab12cd12d2b64b277ef08'),\n",
      "        'address': 'Avenida Ibirapuera',\n",
      "        'city': 'SÃ£o Paulo',\n",
      "        'country': 'Brasil',\n",
      "        'email': 'marina.soares@gmail.com',\n",
      "        'lastname': 'Soares',\n",
      "        'membership': 'Silver',\n",
      "        'name': 'Marina',\n",
      "        'password': 'marketplace@2021',\n",
      "        'payment': 'Pix',\n",
      "        'postal_code': '12345-503',\n",
      "        'status': 'Ativo',\n",
      "        'subscription': 'CafÃ©',\n",
      "        'username': 'marina.soares',\n",
      "    },\n",
      "    {\n",
      "        '_id': ObjectId('613bf6065fc55c7e2646499f'),\n",
      "        'address': 'Avenida Ibirapuera',\n",
      "        'city': 'SÃ£o Paulo',\n",
      "        'country': 'Brasil',\n",
      "        'email': 'marina.soares@gmail.com',\n",
      "        'lastname': 'Soares',\n",
      "        'membership': 'Silver',\n",
      "        'name': 'Marina',\n",
      "        'password': 'marketplace@2021',\n",
      "        'payment': 'Pix',\n",
      "        'postal_code': '12345-503',\n",
      "        'status': 'Ativo',\n",
      "        'subscription': 'CafÃ©',\n",
      "        'username': 'marina.soares',\n",
      "    },\n",
      "]\n"
     ]
    }
   ],
   "metadata": {}
  },
  {
   "cell_type": "markdown",
   "source": [
    "### 3. Quantos assinantes são membros tipo \"Basic\"?"
   ],
   "metadata": {}
  },
  {
   "cell_type": "code",
   "execution_count": 23,
   "source": [
    "docs = db.Membership.find({\"membership\": \"Platinum\"}).limit(10)\r\n",
    "pprint(list(docs))"
   ],
   "outputs": [
    {
     "output_type": "stream",
     "name": "stdout",
     "text": [
      "[\n",
      "    {\n",
      "        '_id': ObjectId('6137d7fc34e1f14b7da1264a'),\n",
      "        'address': 'Rua Vergueiro',\n",
      "        'city': 'São Paulo',\n",
      "        'country': 'Brasil',\n",
      "        'email': 'lucas.franzolin@gmail.com',\n",
      "        'lastname': 'Franzolin',\n",
      "        'membership': 'Platinum',\n",
      "        'name': 'Lucas',\n",
      "        'password': 'marketplace@2021',\n",
      "        'payment': 'Boleto',\n",
      "        'postal_code': '12345-501',\n",
      "        'status': 'Ativo',\n",
      "        'subscription': 'Chocolate',\n",
      "        'username': 'lucas.franzolin',\n",
      "    },\n",
      "    {\n",
      "        '_id': ObjectId('6137d7fc34e1f14b7da1264c'),\n",
      "        'address': 'Avenida Morumbi',\n",
      "        'city': 'São Paulo',\n",
      "        'country': 'Brasil',\n",
      "        'email': 'victor.oliveira@gmail.com',\n",
      "        'lastname': 'H. Oliveira',\n",
      "        'membership': 'Platinum',\n",
      "        'name': 'Victor',\n",
      "        'password': 'marketplace@2021',\n",
      "        'payment': 'Boleto',\n",
      "        'postal_code': '12345-504',\n",
      "        'status': 'Ativo',\n",
      "        'subscription': 'Chocolate',\n",
      "        'username': 'victor.oliveira',\n",
      "    },\n",
      "    {\n",
      "        '_id': ObjectId('613ab12cd12d2b64b277ef07'),\n",
      "        'address': 'Rua Vergueiro',\n",
      "        'city': 'SÃ£o Paulo',\n",
      "        'country': 'Brasil',\n",
      "        'email': 'lucas.franzolin@gmail.com',\n",
      "        'lastname': 'Franzolin',\n",
      "        'membership': 'Platinum',\n",
      "        'name': 'Lucas',\n",
      "        'password': 'marketplace@2021',\n",
      "        'payment': 'Boleto',\n",
      "        'postal_code': '12345-501',\n",
      "        'status': 'Ativo',\n",
      "        'subscription': 'Chocolate',\n",
      "        'username': 'lucas.franzolin',\n",
      "    },\n",
      "    {\n",
      "        '_id': ObjectId('613ab12cd12d2b64b277ef09'),\n",
      "        'address': 'Avenida Morumbi',\n",
      "        'city': 'SÃ£o Paulo',\n",
      "        'country': 'Brasil',\n",
      "        'email': 'victor.oliveira@gmail.com',\n",
      "        'lastname': 'H. Oliveira',\n",
      "        'membership': 'Platinum',\n",
      "        'name': 'Victor',\n",
      "        'password': 'marketplace@2021',\n",
      "        'payment': 'Boleto',\n",
      "        'postal_code': '12345-504',\n",
      "        'status': 'Ativo',\n",
      "        'subscription': 'Chocolate',\n",
      "        'username': 'victor.oliveira',\n",
      "    },\n",
      "    {\n",
      "        '_id': ObjectId('613bf6065fc55c7e2646499e'),\n",
      "        'address': 'Rua Vergueiro',\n",
      "        'city': 'SÃ£o Paulo',\n",
      "        'country': 'Brasil',\n",
      "        'email': 'lucas.franzolin@gmail.com',\n",
      "        'lastname': 'Franzolin',\n",
      "        'membership': 'Platinum',\n",
      "        'name': 'Lucas',\n",
      "        'password': 'marketplace@2021',\n",
      "        'payment': 'Boleto',\n",
      "        'postal_code': '12345-501',\n",
      "        'status': 'Ativo',\n",
      "        'subscription': 'Chocolate',\n",
      "        'username': 'lucas.franzolin',\n",
      "    },\n",
      "    {\n",
      "        '_id': ObjectId('613bf6065fc55c7e264649a0'),\n",
      "        'address': 'Avenida Morumbi',\n",
      "        'city': 'SÃ£o Paulo',\n",
      "        'country': 'Brasil',\n",
      "        'email': 'victor.oliveira@gmail.com',\n",
      "        'lastname': 'H. Oliveira',\n",
      "        'membership': 'Platinum',\n",
      "        'name': 'Victor',\n",
      "        'password': 'marketplace@2021',\n",
      "        'payment': 'Boleto',\n",
      "        'postal_code': '12345-504',\n",
      "        'status': 'Ativo',\n",
      "        'subscription': 'Chocolate',\n",
      "        'username': 'victor.oliveira',\n",
      "    },\n",
      "]\n"
     ]
    }
   ],
   "metadata": {}
  },
  {
   "cell_type": "markdown",
   "source": [
    "### 4. Quantos assinantes estão ativos no momento?"
   ],
   "metadata": {}
  },
  {
   "cell_type": "code",
   "execution_count": 25,
   "source": [
    "Qtdocs = db.Membership.count_documents({\"status\": \"Ativo\"})\r\n",
    "docs = db.Membership.find({\"status\": \"Ativo\"})\r\n",
    "pprint(\"Total de ativos\")\r\n",
    "pprint(Qtdocs)\r\n",
    "pprint(list(docs))"
   ],
   "outputs": [
    {
     "output_type": "stream",
     "name": "stdout",
     "text": [
      "'Total de ativos'\n",
      "12\n",
      "[\n",
      "    {\n",
      "        '_id': ObjectId('6137d7fc34e1f14b7da1264a'),\n",
      "        'address': 'Rua Vergueiro',\n",
      "        'city': 'São Paulo',\n",
      "        'country': 'Brasil',\n",
      "        'email': 'lucas.franzolin@gmail.com',\n",
      "        'lastname': 'Franzolin',\n",
      "        'membership': 'Platinum',\n",
      "        'name': 'Lucas',\n",
      "        'password': 'marketplace@2021',\n",
      "        'payment': 'Boleto',\n",
      "        'postal_code': '12345-501',\n",
      "        'status': 'Ativo',\n",
      "        'subscription': 'Chocolate',\n",
      "        'username': 'lucas.franzolin',\n",
      "    },\n",
      "    {\n",
      "        '_id': ObjectId('6137d7fc34e1f14b7da1264b'),\n",
      "        'address': 'Avenida Ibirapuera',\n",
      "        'city': 'São Paulo',\n",
      "        'country': 'Brasil',\n",
      "        'email': 'marina.soares@gmail.com',\n",
      "        'lastname': 'Soares',\n",
      "        'membership': 'Silver',\n",
      "        'name': 'Marina',\n",
      "        'password': 'marketplace@2021',\n",
      "        'payment': 'Pix',\n",
      "        'postal_code': '12345-503',\n",
      "        'status': 'Ativo',\n",
      "        'subscription': 'Café',\n",
      "        'username': 'marina.soares',\n",
      "    },\n",
      "    {\n",
      "        '_id': ObjectId('6137d7fc34e1f14b7da1264c'),\n",
      "        'address': 'Avenida Morumbi',\n",
      "        'city': 'São Paulo',\n",
      "        'country': 'Brasil',\n",
      "        'email': 'victor.oliveira@gmail.com',\n",
      "        'lastname': 'H. Oliveira',\n",
      "        'membership': 'Platinum',\n",
      "        'name': 'Victor',\n",
      "        'password': 'marketplace@2021',\n",
      "        'payment': 'Boleto',\n",
      "        'postal_code': '12345-504',\n",
      "        'status': 'Ativo',\n",
      "        'subscription': 'Chocolate',\n",
      "        'username': 'victor.oliveira',\n",
      "    },\n",
      "    {\n",
      "        '_id': ObjectId('6137d7fc34e1f14b7da1264d'),\n",
      "        'address': 'Rua Brigadeiro Luis Antonio',\n",
      "        'city': 'São Paulo',\n",
      "        'country': 'Brasil',\n",
      "        'email': 'luis.costa@gmail.com',\n",
      "        'lastname': 'G. Costa',\n",
      "        'membership': 'Gold',\n",
      "        'name': 'Luís',\n",
      "        'password': 'marketplace@2021',\n",
      "        'payment': 'Cartão de Crédito',\n",
      "        'postal_code': '12345-502',\n",
      "        'status': 'Ativo',\n",
      "        'subscription': 'Café',\n",
      "        'username': 'luis.costa',\n",
      "    },\n",
      "    {\n",
      "        '_id': ObjectId('613ab12cd12d2b64b277ef07'),\n",
      "        'address': 'Rua Vergueiro',\n",
      "        'city': 'SÃ£o Paulo',\n",
      "        'country': 'Brasil',\n",
      "        'email': 'lucas.franzolin@gmail.com',\n",
      "        'lastname': 'Franzolin',\n",
      "        'membership': 'Platinum',\n",
      "        'name': 'Lucas',\n",
      "        'password': 'marketplace@2021',\n",
      "        'payment': 'Boleto',\n",
      "        'postal_code': '12345-501',\n",
      "        'status': 'Ativo',\n",
      "        'subscription': 'Chocolate',\n",
      "        'username': 'lucas.franzolin',\n",
      "    },\n",
      "    {\n",
      "        '_id': ObjectId('613ab12cd12d2b64b277ef08'),\n",
      "        'address': 'Avenida Ibirapuera',\n",
      "        'city': 'SÃ£o Paulo',\n",
      "        'country': 'Brasil',\n",
      "        'email': 'marina.soares@gmail.com',\n",
      "        'lastname': 'Soares',\n",
      "        'membership': 'Silver',\n",
      "        'name': 'Marina',\n",
      "        'password': 'marketplace@2021',\n",
      "        'payment': 'Pix',\n",
      "        'postal_code': '12345-503',\n",
      "        'status': 'Ativo',\n",
      "        'subscription': 'CafÃ©',\n",
      "        'username': 'marina.soares',\n",
      "    },\n",
      "    {\n",
      "        '_id': ObjectId('613ab12cd12d2b64b277ef09'),\n",
      "        'address': 'Avenida Morumbi',\n",
      "        'city': 'SÃ£o Paulo',\n",
      "        'country': 'Brasil',\n",
      "        'email': 'victor.oliveira@gmail.com',\n",
      "        'lastname': 'H. Oliveira',\n",
      "        'membership': 'Platinum',\n",
      "        'name': 'Victor',\n",
      "        'password': 'marketplace@2021',\n",
      "        'payment': 'Boleto',\n",
      "        'postal_code': '12345-504',\n",
      "        'status': 'Ativo',\n",
      "        'subscription': 'Chocolate',\n",
      "        'username': 'victor.oliveira',\n",
      "    },\n",
      "    {\n",
      "        '_id': ObjectId('613ab12cd12d2b64b277ef0a'),\n",
      "        'address': 'Rua Brigadeiro Luis Antonio',\n",
      "        'city': 'SÃ£o Paulo',\n",
      "        'country': 'Brasil',\n",
      "        'email': 'luis.costa@gmail.com',\n",
      "        'lastname': 'G. Costa',\n",
      "        'membership': 'Gold',\n",
      "        'name': 'LuÃ\\xads',\n",
      "        'password': 'marketplace@2021',\n",
      "        'payment': 'CartÃ£o de CrÃ©dito',\n",
      "        'postal_code': '12345-502',\n",
      "        'status': 'Ativo',\n",
      "        'subscription': 'CafÃ©',\n",
      "        'username': 'luis.costa',\n",
      "    },\n",
      "    {\n",
      "        '_id': ObjectId('613bf6065fc55c7e2646499e'),\n",
      "        'address': 'Rua Vergueiro',\n",
      "        'city': 'SÃ£o Paulo',\n",
      "        'country': 'Brasil',\n",
      "        'email': 'lucas.franzolin@gmail.com',\n",
      "        'lastname': 'Franzolin',\n",
      "        'membership': 'Platinum',\n",
      "        'name': 'Lucas',\n",
      "        'password': 'marketplace@2021',\n",
      "        'payment': 'Boleto',\n",
      "        'postal_code': '12345-501',\n",
      "        'status': 'Ativo',\n",
      "        'subscription': 'Chocolate',\n",
      "        'username': 'lucas.franzolin',\n",
      "    },\n",
      "    {\n",
      "        '_id': ObjectId('613bf6065fc55c7e2646499f'),\n",
      "        'address': 'Avenida Ibirapuera',\n",
      "        'city': 'SÃ£o Paulo',\n",
      "        'country': 'Brasil',\n",
      "        'email': 'marina.soares@gmail.com',\n",
      "        'lastname': 'Soares',\n",
      "        'membership': 'Silver',\n",
      "        'name': 'Marina',\n",
      "        'password': 'marketplace@2021',\n",
      "        'payment': 'Pix',\n",
      "        'postal_code': '12345-503',\n",
      "        'status': 'Ativo',\n",
      "        'subscription': 'CafÃ©',\n",
      "        'username': 'marina.soares',\n",
      "    },\n",
      "    {\n",
      "        '_id': ObjectId('613bf6065fc55c7e264649a0'),\n",
      "        'address': 'Avenida Morumbi',\n",
      "        'city': 'SÃ£o Paulo',\n",
      "        'country': 'Brasil',\n",
      "        'email': 'victor.oliveira@gmail.com',\n",
      "        'lastname': 'H. Oliveira',\n",
      "        'membership': 'Platinum',\n",
      "        'name': 'Victor',\n",
      "        'password': 'marketplace@2021',\n",
      "        'payment': 'Boleto',\n",
      "        'postal_code': '12345-504',\n",
      "        'status': 'Ativo',\n",
      "        'subscription': 'Chocolate',\n",
      "        'username': 'victor.oliveira',\n",
      "    },\n",
      "    {\n",
      "        '_id': ObjectId('613bf6065fc55c7e264649a1'),\n",
      "        'address': 'Rua Brigadeiro Luis Antonio',\n",
      "        'city': 'SÃ£o Paulo',\n",
      "        'country': 'Brasil',\n",
      "        'email': 'luis.costa@gmail.com',\n",
      "        'lastname': 'G. Costa',\n",
      "        'membership': 'Gold',\n",
      "        'name': 'LuÃ\\xads',\n",
      "        'password': 'marketplace@2021',\n",
      "        'payment': 'CartÃ£o de CrÃ©dito',\n",
      "        'postal_code': '12345-502',\n",
      "        'status': 'Ativo',\n",
      "        'subscription': 'CafÃ©',\n",
      "        'username': 'luis.costa',\n",
      "    },\n",
      "]\n"
     ]
    }
   ],
   "metadata": {}
  },
  {
   "cell_type": "markdown",
   "source": [
    "### 4. "
   ],
   "metadata": {}
  },
  {
   "cell_type": "code",
   "execution_count": 2,
   "source": [
    "df = pd.DataFrame(np.random.randn(100,4), columns=['A','B','C','D'])\r\n",
    "df.head()"
   ],
   "outputs": [
    {
     "output_type": "execute_result",
     "data": {
      "text/html": [
       "<div>\n",
       "<style scoped>\n",
       "    .dataframe tbody tr th:only-of-type {\n",
       "        vertical-align: middle;\n",
       "    }\n",
       "\n",
       "    .dataframe tbody tr th {\n",
       "        vertical-align: top;\n",
       "    }\n",
       "\n",
       "    .dataframe thead th {\n",
       "        text-align: right;\n",
       "    }\n",
       "</style>\n",
       "<table border=\"1\" class=\"dataframe\">\n",
       "  <thead>\n",
       "    <tr style=\"text-align: right;\">\n",
       "      <th></th>\n",
       "      <th>A</th>\n",
       "      <th>B</th>\n",
       "      <th>C</th>\n",
       "      <th>D</th>\n",
       "    </tr>\n",
       "  </thead>\n",
       "  <tbody>\n",
       "    <tr>\n",
       "      <th>0</th>\n",
       "      <td>-1.061606</td>\n",
       "      <td>-1.406130</td>\n",
       "      <td>-0.519862</td>\n",
       "      <td>-2.466844</td>\n",
       "    </tr>\n",
       "    <tr>\n",
       "      <th>1</th>\n",
       "      <td>0.844630</td>\n",
       "      <td>-0.860548</td>\n",
       "      <td>1.399418</td>\n",
       "      <td>0.305183</td>\n",
       "    </tr>\n",
       "    <tr>\n",
       "      <th>2</th>\n",
       "      <td>-0.799421</td>\n",
       "      <td>3.107920</td>\n",
       "      <td>0.665128</td>\n",
       "      <td>0.287993</td>\n",
       "    </tr>\n",
       "    <tr>\n",
       "      <th>3</th>\n",
       "      <td>-0.783589</td>\n",
       "      <td>-0.537567</td>\n",
       "      <td>0.437406</td>\n",
       "      <td>-0.255349</td>\n",
       "    </tr>\n",
       "    <tr>\n",
       "      <th>4</th>\n",
       "      <td>-1.847899</td>\n",
       "      <td>1.759182</td>\n",
       "      <td>-0.214432</td>\n",
       "      <td>1.187035</td>\n",
       "    </tr>\n",
       "  </tbody>\n",
       "</table>\n",
       "</div>"
      ],
      "text/plain": [
       "          A         B         C         D\n",
       "0 -1.061606 -1.406130 -0.519862 -2.466844\n",
       "1  0.844630 -0.860548  1.399418  0.305183\n",
       "2 -0.799421  3.107920  0.665128  0.287993\n",
       "3 -0.783589 -0.537567  0.437406 -0.255349\n",
       "4 -1.847899  1.759182 -0.214432  1.187035"
      ]
     },
     "metadata": {},
     "execution_count": 2
    }
   ],
   "metadata": {}
  },
  {
   "cell_type": "code",
   "execution_count": 3,
   "source": [
    " cf.go_offline()"
   ],
   "outputs": [
    {
     "output_type": "display_data",
     "data": {
      "text/html": [
       "        <script type=\"text/javascript\">\n",
       "        window.PlotlyConfig = {MathJaxConfig: 'local'};\n",
       "        if (window.MathJax) {MathJax.Hub.Config({SVG: {font: \"STIX-Web\"}});}\n",
       "        if (typeof require !== 'undefined') {\n",
       "        require.undef(\"plotly\");\n",
       "        requirejs.config({\n",
       "            paths: {\n",
       "                'plotly': ['https://cdn.plot.ly/plotly-2.4.2.min']\n",
       "            }\n",
       "        });\n",
       "        require(['plotly'], function(Plotly) {\n",
       "            window._Plotly = Plotly;\n",
       "        });\n",
       "        }\n",
       "        </script>\n",
       "        "
      ]
     },
     "metadata": {}
    }
   ],
   "metadata": {}
  },
  {
   "cell_type": "code",
   "execution_count": 4,
   "source": [
    "df.iplot()"
   ],
   "outputs": [
    {
     "output_type": "display_data",
     "data": {
      "application/vnd.plotly.v1+json": {
       "config": {
        "linkText": "Export to plot.ly",
        "plotlyServerURL": "https://plot.ly",
        "showLink": true
       },
       "data": [
        {
         "line": {
          "color": "rgba(255, 153, 51, 1.0)",
          "dash": "solid",
          "shape": "linear",
          "width": 1.3
         },
         "mode": "lines",
         "name": "A",
         "text": "",
         "type": "scatter",
         "x": [
          0,
          1,
          2,
          3,
          4,
          5,
          6,
          7,
          8,
          9,
          10,
          11,
          12,
          13,
          14,
          15,
          16,
          17,
          18,
          19,
          20,
          21,
          22,
          23,
          24,
          25,
          26,
          27,
          28,
          29,
          30,
          31,
          32,
          33,
          34,
          35,
          36,
          37,
          38,
          39,
          40,
          41,
          42,
          43,
          44,
          45,
          46,
          47,
          48,
          49,
          50,
          51,
          52,
          53,
          54,
          55,
          56,
          57,
          58,
          59,
          60,
          61,
          62,
          63,
          64,
          65,
          66,
          67,
          68,
          69,
          70,
          71,
          72,
          73,
          74,
          75,
          76,
          77,
          78,
          79,
          80,
          81,
          82,
          83,
          84,
          85,
          86,
          87,
          88,
          89,
          90,
          91,
          92,
          93,
          94,
          95,
          96,
          97,
          98,
          99
         ],
         "y": [
          -1.0616056426553135,
          0.84463028180642,
          -0.7994213222884078,
          -0.7835889634466429,
          -1.8478992321092105,
          -0.3940059340030168,
          1.076744721686337,
          0.6194257207257651,
          -0.44275523295649183,
          0.7224476610773456,
          -0.8179634255258162,
          0.20768382830173507,
          -0.6405054436831655,
          0.16509757776637599,
          2.1560090224294277,
          -0.5237596384490412,
          1.3420925412669753,
          0.7832779290327149,
          -1.9685386786046728,
          -0.10723584705521351,
          1.324902444184136,
          0.6310542205837729,
          1.0293350517449475,
          0.01835552902121153,
          0.8102280138988506,
          1.3294433688162477,
          -0.12371904779162039,
          1.007336908924887,
          0.5717268849741876,
          -0.9038592563128557,
          0.41513820542185575,
          0.33739402576381555,
          2.0331929392939614,
          -1.1403520756173164,
          -0.13903403222704938,
          -1.846257232138857,
          0.40625155101620536,
          0.7545298587669155,
          0.01416727685744479,
          2.3746010689700796,
          -0.027709953752846232,
          0.7890163375947945,
          0.5351736769298666,
          -0.618790933142192,
          1.0687105515657664,
          0.6366758756169538,
          0.04603066239473176,
          -0.033772110469792276,
          -1.1414377003111533,
          0.5148492919184648,
          0.02765307455292337,
          2.218011732178364,
          0.025367941640780396,
          -1.1172123281956214,
          0.6298574708517063,
          0.22539024170444744,
          0.5776255950982719,
          -0.24457152710760374,
          0.7250913998176868,
          -0.013671156098843304,
          -2.1240968342101936,
          2.1676935818232113,
          -0.514005077661339,
          1.4827864487597728,
          -1.0316726470925472,
          0.5360513489359415,
          -0.39478640831267664,
          0.38218960250248085,
          -0.8257070073051498,
          1.979202676997199,
          -0.03543574481255134,
          -0.7354144239454079,
          -2.1145040631059815,
          -1.3590166358170264,
          2.176672149632494,
          -0.34140642225282014,
          0.23776624222686196,
          1.0922292487270366,
          -0.7179869460199423,
          -0.9512206989890962,
          -0.31073624753026424,
          -0.839434702866719,
          1.8339080927612703,
          -1.586889614725938,
          0.7110537565295657,
          -0.14308370315792643,
          -0.39889286533731405,
          -0.9308938354075316,
          0.934887091362962,
          -1.1845755724125042,
          0.9150409322425486,
          1.7269395066522322,
          0.24336863646120083,
          -1.2239949079195445,
          -0.35833287212461784,
          -0.24252356772378084,
          3.0792614488309957,
          0.32806798852567676,
          1.062997567662617,
          -1.6275985324331361
         ]
        },
        {
         "line": {
          "color": "rgba(55, 128, 191, 1.0)",
          "dash": "solid",
          "shape": "linear",
          "width": 1.3
         },
         "mode": "lines",
         "name": "B",
         "text": "",
         "type": "scatter",
         "x": [
          0,
          1,
          2,
          3,
          4,
          5,
          6,
          7,
          8,
          9,
          10,
          11,
          12,
          13,
          14,
          15,
          16,
          17,
          18,
          19,
          20,
          21,
          22,
          23,
          24,
          25,
          26,
          27,
          28,
          29,
          30,
          31,
          32,
          33,
          34,
          35,
          36,
          37,
          38,
          39,
          40,
          41,
          42,
          43,
          44,
          45,
          46,
          47,
          48,
          49,
          50,
          51,
          52,
          53,
          54,
          55,
          56,
          57,
          58,
          59,
          60,
          61,
          62,
          63,
          64,
          65,
          66,
          67,
          68,
          69,
          70,
          71,
          72,
          73,
          74,
          75,
          76,
          77,
          78,
          79,
          80,
          81,
          82,
          83,
          84,
          85,
          86,
          87,
          88,
          89,
          90,
          91,
          92,
          93,
          94,
          95,
          96,
          97,
          98,
          99
         ],
         "y": [
          -1.4061296502513496,
          -0.8605476869226552,
          3.1079198426176236,
          -0.5375674285082149,
          1.7591818688871492,
          -1.421746123620514,
          0.887160343933532,
          -0.5945670939071451,
          -0.2940122533143056,
          -1.1576654731122085,
          -0.8254361947052757,
          -2.657688413200767,
          0.5272067100660717,
          -0.6445465382037981,
          -1.0062726075775883,
          -0.45049824441374003,
          -0.41718987271770736,
          -0.11777707665941599,
          -0.20293202396112564,
          -0.6968116515986089,
          1.1996152352231564,
          0.15006445339597316,
          -0.46433854793795426,
          0.5151781601470902,
          -1.1911459100323156,
          -0.8631523548926949,
          -1.1799107867625094,
          0.5153135447093408,
          -0.6600906312561039,
          0.6833040431020082,
          1.0996044976628376,
          -1.71141718049521,
          1.4161497187416097,
          -0.605726430050744,
          -0.26299763409726346,
          0.03650937811855479,
          -2.1990412054938333,
          0.9939184888889646,
          2.073754280227192,
          -2.4373859438605048,
          -0.35953274856873635,
          -1.231330565976319,
          0.42889778320800837,
          0.8205368195181917,
          -2.5403801810620315,
          -0.11193052987855279,
          -0.8257233921541957,
          0.6711407728034975,
          -1.0883291275355174,
          -1.2431473885344007,
          -1.2124129450532888,
          1.5077802510416658,
          1.389941333221869,
          -0.876445207680125,
          -1.0537823424998123,
          -0.12466335569344565,
          -0.7463924036541828,
          -0.3336679388327956,
          -0.06523949338906282,
          1.0356976770984694,
          1.1759839230066704,
          -1.823007158530266,
          0.5464364331784567,
          0.22457421991426857,
          -0.34223516358365164,
          0.3088943764746163,
          -0.7148967769359752,
          -1.3263650141406353,
          -0.3806636965567209,
          -0.535146417498442,
          -0.7445469448559587,
          1.9357781615630363,
          -0.044550704890453326,
          -0.2634915058959495,
          -0.48360483667209986,
          0.6523076758424777,
          -0.6277257787773444,
          -1.3769968384513736,
          -1.025322921468264,
          0.9363464591320858,
          0.574730714305171,
          -0.25961385337215,
          -0.2493741705209992,
          -1.2300707105323592,
          -1.6458748048549066,
          0.40872150828956505,
          0.22398016365157816,
          1.122002447359591,
          -0.9072592794610523,
          0.6585875449492239,
          0.4905974311604524,
          -1.3102483765222732,
          0.6900857315518574,
          0.6891573074537969,
          -0.13277433102073324,
          2.7042962159214254,
          0.4389844978648537,
          0.4218776976580409,
          0.2776296579812439,
          -1.251443073841751
         ]
        },
        {
         "line": {
          "color": "rgba(50, 171, 96, 1.0)",
          "dash": "solid",
          "shape": "linear",
          "width": 1.3
         },
         "mode": "lines",
         "name": "C",
         "text": "",
         "type": "scatter",
         "x": [
          0,
          1,
          2,
          3,
          4,
          5,
          6,
          7,
          8,
          9,
          10,
          11,
          12,
          13,
          14,
          15,
          16,
          17,
          18,
          19,
          20,
          21,
          22,
          23,
          24,
          25,
          26,
          27,
          28,
          29,
          30,
          31,
          32,
          33,
          34,
          35,
          36,
          37,
          38,
          39,
          40,
          41,
          42,
          43,
          44,
          45,
          46,
          47,
          48,
          49,
          50,
          51,
          52,
          53,
          54,
          55,
          56,
          57,
          58,
          59,
          60,
          61,
          62,
          63,
          64,
          65,
          66,
          67,
          68,
          69,
          70,
          71,
          72,
          73,
          74,
          75,
          76,
          77,
          78,
          79,
          80,
          81,
          82,
          83,
          84,
          85,
          86,
          87,
          88,
          89,
          90,
          91,
          92,
          93,
          94,
          95,
          96,
          97,
          98,
          99
         ],
         "y": [
          -0.5198622206054472,
          1.3994179613328381,
          0.6651284581330063,
          0.43740619570858197,
          -0.21443239612415022,
          -0.7931394494868578,
          -1.5498527116903105,
          0.1798188887112353,
          0.550873336460979,
          -0.41481222826706754,
          1.4779841392733664,
          -0.6775689282126774,
          -1.6566796917583,
          -1.372486620245075,
          -0.49589172351543254,
          1.1434484984573428,
          0.2802851566270074,
          -1.7631833849661653,
          1.147255012374709,
          0.38604832545619744,
          1.195752425244848,
          1.4753033565187736,
          0.41995507937655563,
          -0.04302464614288543,
          -1.5261645404531246,
          0.7378283575376653,
          -0.23866271185040008,
          -0.16921745283265616,
          1.248312773445199,
          0.37602247960234636,
          -0.3601694088609228,
          0.5942529200991812,
          0.2774331204055344,
          -0.05492971482103691,
          1.292815388032225,
          0.48225774255711246,
          -0.5825892216595707,
          0.4856254966648266,
          0.27628128846544325,
          0.9314697665946259,
          -0.7498640130376074,
          -0.8791354634189266,
          0.15978266856638615,
          -0.14356930391153475,
          1.6240296722615672,
          0.12590075892171548,
          -0.32738539803900996,
          1.8230020301986243,
          0.6646232997876755,
          0.8092009226331874,
          -0.46691707738284977,
          -0.24223645551822373,
          -0.6697236123002671,
          0.15456617407291848,
          0.11447050446277304,
          1.0466405807676458,
          0.7510914964717886,
          1.1151914979274848,
          0.13512921198242925,
          -0.18364958445284887,
          2.563218583378711,
          0.6028109986893042,
          -0.1400162575755426,
          0.560420564787584,
          -0.3249264357413886,
          -0.6938775422619644,
          0.022087007424506536,
          0.437112975050448,
          0.6517507009199873,
          1.037414812764746,
          -0.6011895687481263,
          -0.8386656946690673,
          -1.3343208677345646,
          -1.2505152898432528,
          0.7815155507945947,
          0.7869163219909094,
          1.4917801517147236,
          0.4073218138269973,
          -0.5137883814916262,
          -0.21824382172629167,
          1.1011070642783432,
          -0.29116508661541524,
          -0.9382108763079782,
          -0.6543373897136285,
          0.957581395135701,
          -1.79850245203027,
          -1.8592913376791669,
          -0.32393078228961797,
          1.1337189712149758,
          -1.3688535434120228,
          0.6178294922056204,
          -0.046264165594208796,
          -0.9492111320639034,
          -2.0800649214929936,
          -0.05580371277194583,
          -0.46776147304644305,
          -0.28734552295939825,
          0.4664230219866711,
          -0.375199292066655,
          0.6723500411322696
         ]
        },
        {
         "line": {
          "color": "rgba(128, 0, 128, 1.0)",
          "dash": "solid",
          "shape": "linear",
          "width": 1.3
         },
         "mode": "lines",
         "name": "D",
         "text": "",
         "type": "scatter",
         "x": [
          0,
          1,
          2,
          3,
          4,
          5,
          6,
          7,
          8,
          9,
          10,
          11,
          12,
          13,
          14,
          15,
          16,
          17,
          18,
          19,
          20,
          21,
          22,
          23,
          24,
          25,
          26,
          27,
          28,
          29,
          30,
          31,
          32,
          33,
          34,
          35,
          36,
          37,
          38,
          39,
          40,
          41,
          42,
          43,
          44,
          45,
          46,
          47,
          48,
          49,
          50,
          51,
          52,
          53,
          54,
          55,
          56,
          57,
          58,
          59,
          60,
          61,
          62,
          63,
          64,
          65,
          66,
          67,
          68,
          69,
          70,
          71,
          72,
          73,
          74,
          75,
          76,
          77,
          78,
          79,
          80,
          81,
          82,
          83,
          84,
          85,
          86,
          87,
          88,
          89,
          90,
          91,
          92,
          93,
          94,
          95,
          96,
          97,
          98,
          99
         ],
         "y": [
          -2.466843767862322,
          0.30518324852130235,
          0.2879928685553779,
          -0.2553488856479903,
          1.1870351545732067,
          -0.34895266413031245,
          0.20784490277036344,
          0.8740297741188292,
          -1.408829268171607,
          -1.2966349358455131,
          1.517842785986865,
          -0.4150772185290856,
          -0.8377754388969376,
          0.04863778618204833,
          1.769801248069825,
          -0.290818477754155,
          0.6457960539683207,
          -1.4762248013809163,
          -0.857791191139679,
          -1.5596795487283353,
          -0.2718312486193452,
          0.597934648367064,
          -1.1538032329720636,
          0.8969303205737439,
          0.3475256840391271,
          -0.4139123404720647,
          -0.9849136904894206,
          0.5293352221717437,
          -0.32175449240292897,
          -1.3871324116868662,
          0.829227937446667,
          -1.1915235725927322,
          -1.7511316324253197,
          -0.40032482661191715,
          1.984896163588138,
          0.5772925378440921,
          -1.6741983222032455,
          0.7937958990503413,
          -0.48637050358959527,
          2.076637199162124,
          0.19217440859811577,
          0.5529411553222717,
          0.6939433976754846,
          0.4308865710210343,
          -0.1102606861929571,
          -0.7545595394852807,
          -0.3899537520070091,
          2.0140127139128645,
          1.488592127356945,
          -1.0070760410062511,
          0.8838649048533894,
          -0.5195032703574405,
          1.5277122927213094,
          -1.4626923540592407,
          -1.013768531042009,
          -0.6890099807613763,
          0.7452964551391676,
          1.5511008020234067,
          0.6076950700152567,
          -2.4232609158838625,
          -0.8222188085545542,
          1.3334386274963108,
          0.42017196790788947,
          -0.44298913933045714,
          -0.2811646523877003,
          -0.3006753617684478,
          1.3934259825841961,
          0.3043163683803821,
          1.331878464612429,
          -0.7643688748996726,
          -0.5167272258067401,
          -0.8651364075908831,
          0.4903030057256085,
          0.9939809857893049,
          -0.17342383803667194,
          -0.023310008584991507,
          0.12088991243550601,
          0.7805369434338278,
          -0.30647943405639255,
          0.014794578891910878,
          0.367206965161644,
          0.5013362230083188,
          -0.5984141601359485,
          0.12310777077245284,
          -1.0609507357138086,
          -1.1224879102455791,
          -1.3181420004211575,
          -0.9115695576932837,
          -0.2856691402170177,
          -0.2576111411138388,
          -0.5097255900889629,
          -0.004381392325160754,
          -1.8743898354994784,
          0.38230985288764796,
          0.6892615560042171,
          -0.10244788222362308,
          1.684338465595292,
          0.29477100091746805,
          0.051291096003986895,
          0.3796986039746632
         ]
        }
       ],
       "layout": {
        "legend": {
         "bgcolor": "#F5F6F9",
         "font": {
          "color": "#4D5663"
         }
        },
        "paper_bgcolor": "#F5F6F9",
        "plot_bgcolor": "#F5F6F9",
        "template": {
         "data": {
          "bar": [
           {
            "error_x": {
             "color": "#2a3f5f"
            },
            "error_y": {
             "color": "#2a3f5f"
            },
            "marker": {
             "line": {
              "color": "#E5ECF6",
              "width": 0.5
             },
             "pattern": {
              "fillmode": "overlay",
              "size": 10,
              "solidity": 0.2
             }
            },
            "type": "bar"
           }
          ],
          "barpolar": [
           {
            "marker": {
             "line": {
              "color": "#E5ECF6",
              "width": 0.5
             },
             "pattern": {
              "fillmode": "overlay",
              "size": 10,
              "solidity": 0.2
             }
            },
            "type": "barpolar"
           }
          ],
          "carpet": [
           {
            "aaxis": {
             "endlinecolor": "#2a3f5f",
             "gridcolor": "white",
             "linecolor": "white",
             "minorgridcolor": "white",
             "startlinecolor": "#2a3f5f"
            },
            "baxis": {
             "endlinecolor": "#2a3f5f",
             "gridcolor": "white",
             "linecolor": "white",
             "minorgridcolor": "white",
             "startlinecolor": "#2a3f5f"
            },
            "type": "carpet"
           }
          ],
          "choropleth": [
           {
            "colorbar": {
             "outlinewidth": 0,
             "ticks": ""
            },
            "type": "choropleth"
           }
          ],
          "contour": [
           {
            "colorbar": {
             "outlinewidth": 0,
             "ticks": ""
            },
            "colorscale": [
             [
              0,
              "#0d0887"
             ],
             [
              0.1111111111111111,
              "#46039f"
             ],
             [
              0.2222222222222222,
              "#7201a8"
             ],
             [
              0.3333333333333333,
              "#9c179e"
             ],
             [
              0.4444444444444444,
              "#bd3786"
             ],
             [
              0.5555555555555556,
              "#d8576b"
             ],
             [
              0.6666666666666666,
              "#ed7953"
             ],
             [
              0.7777777777777778,
              "#fb9f3a"
             ],
             [
              0.8888888888888888,
              "#fdca26"
             ],
             [
              1,
              "#f0f921"
             ]
            ],
            "type": "contour"
           }
          ],
          "contourcarpet": [
           {
            "colorbar": {
             "outlinewidth": 0,
             "ticks": ""
            },
            "type": "contourcarpet"
           }
          ],
          "heatmap": [
           {
            "colorbar": {
             "outlinewidth": 0,
             "ticks": ""
            },
            "colorscale": [
             [
              0,
              "#0d0887"
             ],
             [
              0.1111111111111111,
              "#46039f"
             ],
             [
              0.2222222222222222,
              "#7201a8"
             ],
             [
              0.3333333333333333,
              "#9c179e"
             ],
             [
              0.4444444444444444,
              "#bd3786"
             ],
             [
              0.5555555555555556,
              "#d8576b"
             ],
             [
              0.6666666666666666,
              "#ed7953"
             ],
             [
              0.7777777777777778,
              "#fb9f3a"
             ],
             [
              0.8888888888888888,
              "#fdca26"
             ],
             [
              1,
              "#f0f921"
             ]
            ],
            "type": "heatmap"
           }
          ],
          "heatmapgl": [
           {
            "colorbar": {
             "outlinewidth": 0,
             "ticks": ""
            },
            "colorscale": [
             [
              0,
              "#0d0887"
             ],
             [
              0.1111111111111111,
              "#46039f"
             ],
             [
              0.2222222222222222,
              "#7201a8"
             ],
             [
              0.3333333333333333,
              "#9c179e"
             ],
             [
              0.4444444444444444,
              "#bd3786"
             ],
             [
              0.5555555555555556,
              "#d8576b"
             ],
             [
              0.6666666666666666,
              "#ed7953"
             ],
             [
              0.7777777777777778,
              "#fb9f3a"
             ],
             [
              0.8888888888888888,
              "#fdca26"
             ],
             [
              1,
              "#f0f921"
             ]
            ],
            "type": "heatmapgl"
           }
          ],
          "histogram": [
           {
            "marker": {
             "pattern": {
              "fillmode": "overlay",
              "size": 10,
              "solidity": 0.2
             }
            },
            "type": "histogram"
           }
          ],
          "histogram2d": [
           {
            "colorbar": {
             "outlinewidth": 0,
             "ticks": ""
            },
            "colorscale": [
             [
              0,
              "#0d0887"
             ],
             [
              0.1111111111111111,
              "#46039f"
             ],
             [
              0.2222222222222222,
              "#7201a8"
             ],
             [
              0.3333333333333333,
              "#9c179e"
             ],
             [
              0.4444444444444444,
              "#bd3786"
             ],
             [
              0.5555555555555556,
              "#d8576b"
             ],
             [
              0.6666666666666666,
              "#ed7953"
             ],
             [
              0.7777777777777778,
              "#fb9f3a"
             ],
             [
              0.8888888888888888,
              "#fdca26"
             ],
             [
              1,
              "#f0f921"
             ]
            ],
            "type": "histogram2d"
           }
          ],
          "histogram2dcontour": [
           {
            "colorbar": {
             "outlinewidth": 0,
             "ticks": ""
            },
            "colorscale": [
             [
              0,
              "#0d0887"
             ],
             [
              0.1111111111111111,
              "#46039f"
             ],
             [
              0.2222222222222222,
              "#7201a8"
             ],
             [
              0.3333333333333333,
              "#9c179e"
             ],
             [
              0.4444444444444444,
              "#bd3786"
             ],
             [
              0.5555555555555556,
              "#d8576b"
             ],
             [
              0.6666666666666666,
              "#ed7953"
             ],
             [
              0.7777777777777778,
              "#fb9f3a"
             ],
             [
              0.8888888888888888,
              "#fdca26"
             ],
             [
              1,
              "#f0f921"
             ]
            ],
            "type": "histogram2dcontour"
           }
          ],
          "mesh3d": [
           {
            "colorbar": {
             "outlinewidth": 0,
             "ticks": ""
            },
            "type": "mesh3d"
           }
          ],
          "parcoords": [
           {
            "line": {
             "colorbar": {
              "outlinewidth": 0,
              "ticks": ""
             }
            },
            "type": "parcoords"
           }
          ],
          "pie": [
           {
            "automargin": true,
            "type": "pie"
           }
          ],
          "scatter": [
           {
            "marker": {
             "colorbar": {
              "outlinewidth": 0,
              "ticks": ""
             }
            },
            "type": "scatter"
           }
          ],
          "scatter3d": [
           {
            "line": {
             "colorbar": {
              "outlinewidth": 0,
              "ticks": ""
             }
            },
            "marker": {
             "colorbar": {
              "outlinewidth": 0,
              "ticks": ""
             }
            },
            "type": "scatter3d"
           }
          ],
          "scattercarpet": [
           {
            "marker": {
             "colorbar": {
              "outlinewidth": 0,
              "ticks": ""
             }
            },
            "type": "scattercarpet"
           }
          ],
          "scattergeo": [
           {
            "marker": {
             "colorbar": {
              "outlinewidth": 0,
              "ticks": ""
             }
            },
            "type": "scattergeo"
           }
          ],
          "scattergl": [
           {
            "marker": {
             "colorbar": {
              "outlinewidth": 0,
              "ticks": ""
             }
            },
            "type": "scattergl"
           }
          ],
          "scattermapbox": [
           {
            "marker": {
             "colorbar": {
              "outlinewidth": 0,
              "ticks": ""
             }
            },
            "type": "scattermapbox"
           }
          ],
          "scatterpolar": [
           {
            "marker": {
             "colorbar": {
              "outlinewidth": 0,
              "ticks": ""
             }
            },
            "type": "scatterpolar"
           }
          ],
          "scatterpolargl": [
           {
            "marker": {
             "colorbar": {
              "outlinewidth": 0,
              "ticks": ""
             }
            },
            "type": "scatterpolargl"
           }
          ],
          "scatterternary": [
           {
            "marker": {
             "colorbar": {
              "outlinewidth": 0,
              "ticks": ""
             }
            },
            "type": "scatterternary"
           }
          ],
          "surface": [
           {
            "colorbar": {
             "outlinewidth": 0,
             "ticks": ""
            },
            "colorscale": [
             [
              0,
              "#0d0887"
             ],
             [
              0.1111111111111111,
              "#46039f"
             ],
             [
              0.2222222222222222,
              "#7201a8"
             ],
             [
              0.3333333333333333,
              "#9c179e"
             ],
             [
              0.4444444444444444,
              "#bd3786"
             ],
             [
              0.5555555555555556,
              "#d8576b"
             ],
             [
              0.6666666666666666,
              "#ed7953"
             ],
             [
              0.7777777777777778,
              "#fb9f3a"
             ],
             [
              0.8888888888888888,
              "#fdca26"
             ],
             [
              1,
              "#f0f921"
             ]
            ],
            "type": "surface"
           }
          ],
          "table": [
           {
            "cells": {
             "fill": {
              "color": "#EBF0F8"
             },
             "line": {
              "color": "white"
             }
            },
            "header": {
             "fill": {
              "color": "#C8D4E3"
             },
             "line": {
              "color": "white"
             }
            },
            "type": "table"
           }
          ]
         },
         "layout": {
          "annotationdefaults": {
           "arrowcolor": "#2a3f5f",
           "arrowhead": 0,
           "arrowwidth": 1
          },
          "autotypenumbers": "strict",
          "coloraxis": {
           "colorbar": {
            "outlinewidth": 0,
            "ticks": ""
           }
          },
          "colorscale": {
           "diverging": [
            [
             0,
             "#8e0152"
            ],
            [
             0.1,
             "#c51b7d"
            ],
            [
             0.2,
             "#de77ae"
            ],
            [
             0.3,
             "#f1b6da"
            ],
            [
             0.4,
             "#fde0ef"
            ],
            [
             0.5,
             "#f7f7f7"
            ],
            [
             0.6,
             "#e6f5d0"
            ],
            [
             0.7,
             "#b8e186"
            ],
            [
             0.8,
             "#7fbc41"
            ],
            [
             0.9,
             "#4d9221"
            ],
            [
             1,
             "#276419"
            ]
           ],
           "sequential": [
            [
             0,
             "#0d0887"
            ],
            [
             0.1111111111111111,
             "#46039f"
            ],
            [
             0.2222222222222222,
             "#7201a8"
            ],
            [
             0.3333333333333333,
             "#9c179e"
            ],
            [
             0.4444444444444444,
             "#bd3786"
            ],
            [
             0.5555555555555556,
             "#d8576b"
            ],
            [
             0.6666666666666666,
             "#ed7953"
            ],
            [
             0.7777777777777778,
             "#fb9f3a"
            ],
            [
             0.8888888888888888,
             "#fdca26"
            ],
            [
             1,
             "#f0f921"
            ]
           ],
           "sequentialminus": [
            [
             0,
             "#0d0887"
            ],
            [
             0.1111111111111111,
             "#46039f"
            ],
            [
             0.2222222222222222,
             "#7201a8"
            ],
            [
             0.3333333333333333,
             "#9c179e"
            ],
            [
             0.4444444444444444,
             "#bd3786"
            ],
            [
             0.5555555555555556,
             "#d8576b"
            ],
            [
             0.6666666666666666,
             "#ed7953"
            ],
            [
             0.7777777777777778,
             "#fb9f3a"
            ],
            [
             0.8888888888888888,
             "#fdca26"
            ],
            [
             1,
             "#f0f921"
            ]
           ]
          },
          "colorway": [
           "#636efa",
           "#EF553B",
           "#00cc96",
           "#ab63fa",
           "#FFA15A",
           "#19d3f3",
           "#FF6692",
           "#B6E880",
           "#FF97FF",
           "#FECB52"
          ],
          "font": {
           "color": "#2a3f5f"
          },
          "geo": {
           "bgcolor": "white",
           "lakecolor": "white",
           "landcolor": "#E5ECF6",
           "showlakes": true,
           "showland": true,
           "subunitcolor": "white"
          },
          "hoverlabel": {
           "align": "left"
          },
          "hovermode": "closest",
          "mapbox": {
           "style": "light"
          },
          "paper_bgcolor": "white",
          "plot_bgcolor": "#E5ECF6",
          "polar": {
           "angularaxis": {
            "gridcolor": "white",
            "linecolor": "white",
            "ticks": ""
           },
           "bgcolor": "#E5ECF6",
           "radialaxis": {
            "gridcolor": "white",
            "linecolor": "white",
            "ticks": ""
           }
          },
          "scene": {
           "xaxis": {
            "backgroundcolor": "#E5ECF6",
            "gridcolor": "white",
            "gridwidth": 2,
            "linecolor": "white",
            "showbackground": true,
            "ticks": "",
            "zerolinecolor": "white"
           },
           "yaxis": {
            "backgroundcolor": "#E5ECF6",
            "gridcolor": "white",
            "gridwidth": 2,
            "linecolor": "white",
            "showbackground": true,
            "ticks": "",
            "zerolinecolor": "white"
           },
           "zaxis": {
            "backgroundcolor": "#E5ECF6",
            "gridcolor": "white",
            "gridwidth": 2,
            "linecolor": "white",
            "showbackground": true,
            "ticks": "",
            "zerolinecolor": "white"
           }
          },
          "shapedefaults": {
           "line": {
            "color": "#2a3f5f"
           }
          },
          "ternary": {
           "aaxis": {
            "gridcolor": "white",
            "linecolor": "white",
            "ticks": ""
           },
           "baxis": {
            "gridcolor": "white",
            "linecolor": "white",
            "ticks": ""
           },
           "bgcolor": "#E5ECF6",
           "caxis": {
            "gridcolor": "white",
            "linecolor": "white",
            "ticks": ""
           }
          },
          "title": {
           "x": 0.05
          },
          "xaxis": {
           "automargin": true,
           "gridcolor": "white",
           "linecolor": "white",
           "ticks": "",
           "title": {
            "standoff": 15
           },
           "zerolinecolor": "white",
           "zerolinewidth": 2
          },
          "yaxis": {
           "automargin": true,
           "gridcolor": "white",
           "linecolor": "white",
           "ticks": "",
           "title": {
            "standoff": 15
           },
           "zerolinecolor": "white",
           "zerolinewidth": 2
          }
         }
        },
        "title": {
         "font": {
          "color": "#4D5663"
         }
        },
        "xaxis": {
         "gridcolor": "#E1E5ED",
         "showgrid": true,
         "tickfont": {
          "color": "#4D5663"
         },
         "title": {
          "font": {
           "color": "#4D5663"
          },
          "text": ""
         },
         "zerolinecolor": "#E1E5ED"
        },
        "yaxis": {
         "gridcolor": "#E1E5ED",
         "showgrid": true,
         "tickfont": {
          "color": "#4D5663"
         },
         "title": {
          "font": {
           "color": "#4D5663"
          },
          "text": ""
         },
         "zerolinecolor": "#E1E5ED"
        }
       }
      },
      "text/html": [
       "<div>                            <div id=\"1c571136-7e91-4a5d-910e-b5de844a133e\" class=\"plotly-graph-div\" style=\"height:525px; width:100%;\"></div>            <script type=\"text/javascript\">                require([\"plotly\"], function(Plotly) {                    window.PLOTLYENV=window.PLOTLYENV || {};\n",
       "                    window.PLOTLYENV.BASE_URL='https://plot.ly';                                    if (document.getElementById(\"1c571136-7e91-4a5d-910e-b5de844a133e\")) {                    Plotly.newPlot(                        \"1c571136-7e91-4a5d-910e-b5de844a133e\",                        [{\"line\":{\"color\":\"rgba(255, 153, 51, 1.0)\",\"dash\":\"solid\",\"shape\":\"linear\",\"width\":1.3},\"mode\":\"lines\",\"name\":\"A\",\"text\":\"\",\"type\":\"scatter\",\"x\":[0,1,2,3,4,5,6,7,8,9,10,11,12,13,14,15,16,17,18,19,20,21,22,23,24,25,26,27,28,29,30,31,32,33,34,35,36,37,38,39,40,41,42,43,44,45,46,47,48,49,50,51,52,53,54,55,56,57,58,59,60,61,62,63,64,65,66,67,68,69,70,71,72,73,74,75,76,77,78,79,80,81,82,83,84,85,86,87,88,89,90,91,92,93,94,95,96,97,98,99],\"y\":[-1.0616056426553135,0.84463028180642,-0.7994213222884078,-0.7835889634466429,-1.8478992321092105,-0.3940059340030168,1.076744721686337,0.6194257207257651,-0.44275523295649183,0.7224476610773456,-0.8179634255258162,0.20768382830173507,-0.6405054436831655,0.16509757776637599,2.1560090224294277,-0.5237596384490412,1.3420925412669753,0.7832779290327149,-1.9685386786046728,-0.10723584705521351,1.324902444184136,0.6310542205837729,1.0293350517449475,0.01835552902121153,0.8102280138988506,1.3294433688162477,-0.12371904779162039,1.007336908924887,0.5717268849741876,-0.9038592563128557,0.41513820542185575,0.33739402576381555,2.0331929392939614,-1.1403520756173164,-0.13903403222704938,-1.846257232138857,0.40625155101620536,0.7545298587669155,0.01416727685744479,2.3746010689700796,-0.027709953752846232,0.7890163375947945,0.5351736769298666,-0.618790933142192,1.0687105515657664,0.6366758756169538,0.04603066239473176,-0.033772110469792276,-1.1414377003111533,0.5148492919184648,0.02765307455292337,2.218011732178364,0.025367941640780396,-1.1172123281956214,0.6298574708517063,0.22539024170444744,0.5776255950982719,-0.24457152710760374,0.7250913998176868,-0.013671156098843304,-2.1240968342101936,2.1676935818232113,-0.514005077661339,1.4827864487597728,-1.0316726470925472,0.5360513489359415,-0.39478640831267664,0.38218960250248085,-0.8257070073051498,1.979202676997199,-0.03543574481255134,-0.7354144239454079,-2.1145040631059815,-1.3590166358170264,2.176672149632494,-0.34140642225282014,0.23776624222686196,1.0922292487270366,-0.7179869460199423,-0.9512206989890962,-0.31073624753026424,-0.839434702866719,1.8339080927612703,-1.586889614725938,0.7110537565295657,-0.14308370315792643,-0.39889286533731405,-0.9308938354075316,0.934887091362962,-1.1845755724125042,0.9150409322425486,1.7269395066522322,0.24336863646120083,-1.2239949079195445,-0.35833287212461784,-0.24252356772378084,3.0792614488309957,0.32806798852567676,1.062997567662617,-1.6275985324331361]},{\"line\":{\"color\":\"rgba(55, 128, 191, 1.0)\",\"dash\":\"solid\",\"shape\":\"linear\",\"width\":1.3},\"mode\":\"lines\",\"name\":\"B\",\"text\":\"\",\"type\":\"scatter\",\"x\":[0,1,2,3,4,5,6,7,8,9,10,11,12,13,14,15,16,17,18,19,20,21,22,23,24,25,26,27,28,29,30,31,32,33,34,35,36,37,38,39,40,41,42,43,44,45,46,47,48,49,50,51,52,53,54,55,56,57,58,59,60,61,62,63,64,65,66,67,68,69,70,71,72,73,74,75,76,77,78,79,80,81,82,83,84,85,86,87,88,89,90,91,92,93,94,95,96,97,98,99],\"y\":[-1.4061296502513496,-0.8605476869226552,3.1079198426176236,-0.5375674285082149,1.7591818688871492,-1.421746123620514,0.887160343933532,-0.5945670939071451,-0.2940122533143056,-1.1576654731122085,-0.8254361947052757,-2.657688413200767,0.5272067100660717,-0.6445465382037981,-1.0062726075775883,-0.45049824441374003,-0.41718987271770736,-0.11777707665941599,-0.20293202396112564,-0.6968116515986089,1.1996152352231564,0.15006445339597316,-0.46433854793795426,0.5151781601470902,-1.1911459100323156,-0.8631523548926949,-1.1799107867625094,0.5153135447093408,-0.6600906312561039,0.6833040431020082,1.0996044976628376,-1.71141718049521,1.4161497187416097,-0.605726430050744,-0.26299763409726346,0.03650937811855479,-2.1990412054938333,0.9939184888889646,2.073754280227192,-2.4373859438605048,-0.35953274856873635,-1.231330565976319,0.42889778320800837,0.8205368195181917,-2.5403801810620315,-0.11193052987855279,-0.8257233921541957,0.6711407728034975,-1.0883291275355174,-1.2431473885344007,-1.2124129450532888,1.5077802510416658,1.389941333221869,-0.876445207680125,-1.0537823424998123,-0.12466335569344565,-0.7463924036541828,-0.3336679388327956,-0.06523949338906282,1.0356976770984694,1.1759839230066704,-1.823007158530266,0.5464364331784567,0.22457421991426857,-0.34223516358365164,0.3088943764746163,-0.7148967769359752,-1.3263650141406353,-0.3806636965567209,-0.535146417498442,-0.7445469448559587,1.9357781615630363,-0.044550704890453326,-0.2634915058959495,-0.48360483667209986,0.6523076758424777,-0.6277257787773444,-1.3769968384513736,-1.025322921468264,0.9363464591320858,0.574730714305171,-0.25961385337215,-0.2493741705209992,-1.2300707105323592,-1.6458748048549066,0.40872150828956505,0.22398016365157816,1.122002447359591,-0.9072592794610523,0.6585875449492239,0.4905974311604524,-1.3102483765222732,0.6900857315518574,0.6891573074537969,-0.13277433102073324,2.7042962159214254,0.4389844978648537,0.4218776976580409,0.2776296579812439,-1.251443073841751]},{\"line\":{\"color\":\"rgba(50, 171, 96, 1.0)\",\"dash\":\"solid\",\"shape\":\"linear\",\"width\":1.3},\"mode\":\"lines\",\"name\":\"C\",\"text\":\"\",\"type\":\"scatter\",\"x\":[0,1,2,3,4,5,6,7,8,9,10,11,12,13,14,15,16,17,18,19,20,21,22,23,24,25,26,27,28,29,30,31,32,33,34,35,36,37,38,39,40,41,42,43,44,45,46,47,48,49,50,51,52,53,54,55,56,57,58,59,60,61,62,63,64,65,66,67,68,69,70,71,72,73,74,75,76,77,78,79,80,81,82,83,84,85,86,87,88,89,90,91,92,93,94,95,96,97,98,99],\"y\":[-0.5198622206054472,1.3994179613328381,0.6651284581330063,0.43740619570858197,-0.21443239612415022,-0.7931394494868578,-1.5498527116903105,0.1798188887112353,0.550873336460979,-0.41481222826706754,1.4779841392733664,-0.6775689282126774,-1.6566796917583,-1.372486620245075,-0.49589172351543254,1.1434484984573428,0.2802851566270074,-1.7631833849661653,1.147255012374709,0.38604832545619744,1.195752425244848,1.4753033565187736,0.41995507937655563,-0.04302464614288543,-1.5261645404531246,0.7378283575376653,-0.23866271185040008,-0.16921745283265616,1.248312773445199,0.37602247960234636,-0.3601694088609228,0.5942529200991812,0.2774331204055344,-0.05492971482103691,1.292815388032225,0.48225774255711246,-0.5825892216595707,0.4856254966648266,0.27628128846544325,0.9314697665946259,-0.7498640130376074,-0.8791354634189266,0.15978266856638615,-0.14356930391153475,1.6240296722615672,0.12590075892171548,-0.32738539803900996,1.8230020301986243,0.6646232997876755,0.8092009226331874,-0.46691707738284977,-0.24223645551822373,-0.6697236123002671,0.15456617407291848,0.11447050446277304,1.0466405807676458,0.7510914964717886,1.1151914979274848,0.13512921198242925,-0.18364958445284887,2.563218583378711,0.6028109986893042,-0.1400162575755426,0.560420564787584,-0.3249264357413886,-0.6938775422619644,0.022087007424506536,0.437112975050448,0.6517507009199873,1.037414812764746,-0.6011895687481263,-0.8386656946690673,-1.3343208677345646,-1.2505152898432528,0.7815155507945947,0.7869163219909094,1.4917801517147236,0.4073218138269973,-0.5137883814916262,-0.21824382172629167,1.1011070642783432,-0.29116508661541524,-0.9382108763079782,-0.6543373897136285,0.957581395135701,-1.79850245203027,-1.8592913376791669,-0.32393078228961797,1.1337189712149758,-1.3688535434120228,0.6178294922056204,-0.046264165594208796,-0.9492111320639034,-2.0800649214929936,-0.05580371277194583,-0.46776147304644305,-0.28734552295939825,0.4664230219866711,-0.375199292066655,0.6723500411322696]},{\"line\":{\"color\":\"rgba(128, 0, 128, 1.0)\",\"dash\":\"solid\",\"shape\":\"linear\",\"width\":1.3},\"mode\":\"lines\",\"name\":\"D\",\"text\":\"\",\"type\":\"scatter\",\"x\":[0,1,2,3,4,5,6,7,8,9,10,11,12,13,14,15,16,17,18,19,20,21,22,23,24,25,26,27,28,29,30,31,32,33,34,35,36,37,38,39,40,41,42,43,44,45,46,47,48,49,50,51,52,53,54,55,56,57,58,59,60,61,62,63,64,65,66,67,68,69,70,71,72,73,74,75,76,77,78,79,80,81,82,83,84,85,86,87,88,89,90,91,92,93,94,95,96,97,98,99],\"y\":[-2.466843767862322,0.30518324852130235,0.2879928685553779,-0.2553488856479903,1.1870351545732067,-0.34895266413031245,0.20784490277036344,0.8740297741188292,-1.408829268171607,-1.2966349358455131,1.517842785986865,-0.4150772185290856,-0.8377754388969376,0.04863778618204833,1.769801248069825,-0.290818477754155,0.6457960539683207,-1.4762248013809163,-0.857791191139679,-1.5596795487283353,-0.2718312486193452,0.597934648367064,-1.1538032329720636,0.8969303205737439,0.3475256840391271,-0.4139123404720647,-0.9849136904894206,0.5293352221717437,-0.32175449240292897,-1.3871324116868662,0.829227937446667,-1.1915235725927322,-1.7511316324253197,-0.40032482661191715,1.984896163588138,0.5772925378440921,-1.6741983222032455,0.7937958990503413,-0.48637050358959527,2.076637199162124,0.19217440859811577,0.5529411553222717,0.6939433976754846,0.4308865710210343,-0.1102606861929571,-0.7545595394852807,-0.3899537520070091,2.0140127139128645,1.488592127356945,-1.0070760410062511,0.8838649048533894,-0.5195032703574405,1.5277122927213094,-1.4626923540592407,-1.013768531042009,-0.6890099807613763,0.7452964551391676,1.5511008020234067,0.6076950700152567,-2.4232609158838625,-0.8222188085545542,1.3334386274963108,0.42017196790788947,-0.44298913933045714,-0.2811646523877003,-0.3006753617684478,1.3934259825841961,0.3043163683803821,1.331878464612429,-0.7643688748996726,-0.5167272258067401,-0.8651364075908831,0.4903030057256085,0.9939809857893049,-0.17342383803667194,-0.023310008584991507,0.12088991243550601,0.7805369434338278,-0.30647943405639255,0.014794578891910878,0.367206965161644,0.5013362230083188,-0.5984141601359485,0.12310777077245284,-1.0609507357138086,-1.1224879102455791,-1.3181420004211575,-0.9115695576932837,-0.2856691402170177,-0.2576111411138388,-0.5097255900889629,-0.004381392325160754,-1.8743898354994784,0.38230985288764796,0.6892615560042171,-0.10244788222362308,1.684338465595292,0.29477100091746805,0.051291096003986895,0.3796986039746632]}],                        {\"legend\":{\"bgcolor\":\"#F5F6F9\",\"font\":{\"color\":\"#4D5663\"}},\"paper_bgcolor\":\"#F5F6F9\",\"plot_bgcolor\":\"#F5F6F9\",\"template\":{\"data\":{\"bar\":[{\"error_x\":{\"color\":\"#2a3f5f\"},\"error_y\":{\"color\":\"#2a3f5f\"},\"marker\":{\"line\":{\"color\":\"#E5ECF6\",\"width\":0.5},\"pattern\":{\"fillmode\":\"overlay\",\"size\":10,\"solidity\":0.2}},\"type\":\"bar\"}],\"barpolar\":[{\"marker\":{\"line\":{\"color\":\"#E5ECF6\",\"width\":0.5},\"pattern\":{\"fillmode\":\"overlay\",\"size\":10,\"solidity\":0.2}},\"type\":\"barpolar\"}],\"carpet\":[{\"aaxis\":{\"endlinecolor\":\"#2a3f5f\",\"gridcolor\":\"white\",\"linecolor\":\"white\",\"minorgridcolor\":\"white\",\"startlinecolor\":\"#2a3f5f\"},\"baxis\":{\"endlinecolor\":\"#2a3f5f\",\"gridcolor\":\"white\",\"linecolor\":\"white\",\"minorgridcolor\":\"white\",\"startlinecolor\":\"#2a3f5f\"},\"type\":\"carpet\"}],\"choropleth\":[{\"colorbar\":{\"outlinewidth\":0,\"ticks\":\"\"},\"type\":\"choropleth\"}],\"contour\":[{\"colorbar\":{\"outlinewidth\":0,\"ticks\":\"\"},\"colorscale\":[[0.0,\"#0d0887\"],[0.1111111111111111,\"#46039f\"],[0.2222222222222222,\"#7201a8\"],[0.3333333333333333,\"#9c179e\"],[0.4444444444444444,\"#bd3786\"],[0.5555555555555556,\"#d8576b\"],[0.6666666666666666,\"#ed7953\"],[0.7777777777777778,\"#fb9f3a\"],[0.8888888888888888,\"#fdca26\"],[1.0,\"#f0f921\"]],\"type\":\"contour\"}],\"contourcarpet\":[{\"colorbar\":{\"outlinewidth\":0,\"ticks\":\"\"},\"type\":\"contourcarpet\"}],\"heatmap\":[{\"colorbar\":{\"outlinewidth\":0,\"ticks\":\"\"},\"colorscale\":[[0.0,\"#0d0887\"],[0.1111111111111111,\"#46039f\"],[0.2222222222222222,\"#7201a8\"],[0.3333333333333333,\"#9c179e\"],[0.4444444444444444,\"#bd3786\"],[0.5555555555555556,\"#d8576b\"],[0.6666666666666666,\"#ed7953\"],[0.7777777777777778,\"#fb9f3a\"],[0.8888888888888888,\"#fdca26\"],[1.0,\"#f0f921\"]],\"type\":\"heatmap\"}],\"heatmapgl\":[{\"colorbar\":{\"outlinewidth\":0,\"ticks\":\"\"},\"colorscale\":[[0.0,\"#0d0887\"],[0.1111111111111111,\"#46039f\"],[0.2222222222222222,\"#7201a8\"],[0.3333333333333333,\"#9c179e\"],[0.4444444444444444,\"#bd3786\"],[0.5555555555555556,\"#d8576b\"],[0.6666666666666666,\"#ed7953\"],[0.7777777777777778,\"#fb9f3a\"],[0.8888888888888888,\"#fdca26\"],[1.0,\"#f0f921\"]],\"type\":\"heatmapgl\"}],\"histogram\":[{\"marker\":{\"pattern\":{\"fillmode\":\"overlay\",\"size\":10,\"solidity\":0.2}},\"type\":\"histogram\"}],\"histogram2d\":[{\"colorbar\":{\"outlinewidth\":0,\"ticks\":\"\"},\"colorscale\":[[0.0,\"#0d0887\"],[0.1111111111111111,\"#46039f\"],[0.2222222222222222,\"#7201a8\"],[0.3333333333333333,\"#9c179e\"],[0.4444444444444444,\"#bd3786\"],[0.5555555555555556,\"#d8576b\"],[0.6666666666666666,\"#ed7953\"],[0.7777777777777778,\"#fb9f3a\"],[0.8888888888888888,\"#fdca26\"],[1.0,\"#f0f921\"]],\"type\":\"histogram2d\"}],\"histogram2dcontour\":[{\"colorbar\":{\"outlinewidth\":0,\"ticks\":\"\"},\"colorscale\":[[0.0,\"#0d0887\"],[0.1111111111111111,\"#46039f\"],[0.2222222222222222,\"#7201a8\"],[0.3333333333333333,\"#9c179e\"],[0.4444444444444444,\"#bd3786\"],[0.5555555555555556,\"#d8576b\"],[0.6666666666666666,\"#ed7953\"],[0.7777777777777778,\"#fb9f3a\"],[0.8888888888888888,\"#fdca26\"],[1.0,\"#f0f921\"]],\"type\":\"histogram2dcontour\"}],\"mesh3d\":[{\"colorbar\":{\"outlinewidth\":0,\"ticks\":\"\"},\"type\":\"mesh3d\"}],\"parcoords\":[{\"line\":{\"colorbar\":{\"outlinewidth\":0,\"ticks\":\"\"}},\"type\":\"parcoords\"}],\"pie\":[{\"automargin\":true,\"type\":\"pie\"}],\"scatter\":[{\"marker\":{\"colorbar\":{\"outlinewidth\":0,\"ticks\":\"\"}},\"type\":\"scatter\"}],\"scatter3d\":[{\"line\":{\"colorbar\":{\"outlinewidth\":0,\"ticks\":\"\"}},\"marker\":{\"colorbar\":{\"outlinewidth\":0,\"ticks\":\"\"}},\"type\":\"scatter3d\"}],\"scattercarpet\":[{\"marker\":{\"colorbar\":{\"outlinewidth\":0,\"ticks\":\"\"}},\"type\":\"scattercarpet\"}],\"scattergeo\":[{\"marker\":{\"colorbar\":{\"outlinewidth\":0,\"ticks\":\"\"}},\"type\":\"scattergeo\"}],\"scattergl\":[{\"marker\":{\"colorbar\":{\"outlinewidth\":0,\"ticks\":\"\"}},\"type\":\"scattergl\"}],\"scattermapbox\":[{\"marker\":{\"colorbar\":{\"outlinewidth\":0,\"ticks\":\"\"}},\"type\":\"scattermapbox\"}],\"scatterpolar\":[{\"marker\":{\"colorbar\":{\"outlinewidth\":0,\"ticks\":\"\"}},\"type\":\"scatterpolar\"}],\"scatterpolargl\":[{\"marker\":{\"colorbar\":{\"outlinewidth\":0,\"ticks\":\"\"}},\"type\":\"scatterpolargl\"}],\"scatterternary\":[{\"marker\":{\"colorbar\":{\"outlinewidth\":0,\"ticks\":\"\"}},\"type\":\"scatterternary\"}],\"surface\":[{\"colorbar\":{\"outlinewidth\":0,\"ticks\":\"\"},\"colorscale\":[[0.0,\"#0d0887\"],[0.1111111111111111,\"#46039f\"],[0.2222222222222222,\"#7201a8\"],[0.3333333333333333,\"#9c179e\"],[0.4444444444444444,\"#bd3786\"],[0.5555555555555556,\"#d8576b\"],[0.6666666666666666,\"#ed7953\"],[0.7777777777777778,\"#fb9f3a\"],[0.8888888888888888,\"#fdca26\"],[1.0,\"#f0f921\"]],\"type\":\"surface\"}],\"table\":[{\"cells\":{\"fill\":{\"color\":\"#EBF0F8\"},\"line\":{\"color\":\"white\"}},\"header\":{\"fill\":{\"color\":\"#C8D4E3\"},\"line\":{\"color\":\"white\"}},\"type\":\"table\"}]},\"layout\":{\"annotationdefaults\":{\"arrowcolor\":\"#2a3f5f\",\"arrowhead\":0,\"arrowwidth\":1},\"autotypenumbers\":\"strict\",\"coloraxis\":{\"colorbar\":{\"outlinewidth\":0,\"ticks\":\"\"}},\"colorscale\":{\"diverging\":[[0,\"#8e0152\"],[0.1,\"#c51b7d\"],[0.2,\"#de77ae\"],[0.3,\"#f1b6da\"],[0.4,\"#fde0ef\"],[0.5,\"#f7f7f7\"],[0.6,\"#e6f5d0\"],[0.7,\"#b8e186\"],[0.8,\"#7fbc41\"],[0.9,\"#4d9221\"],[1,\"#276419\"]],\"sequential\":[[0.0,\"#0d0887\"],[0.1111111111111111,\"#46039f\"],[0.2222222222222222,\"#7201a8\"],[0.3333333333333333,\"#9c179e\"],[0.4444444444444444,\"#bd3786\"],[0.5555555555555556,\"#d8576b\"],[0.6666666666666666,\"#ed7953\"],[0.7777777777777778,\"#fb9f3a\"],[0.8888888888888888,\"#fdca26\"],[1.0,\"#f0f921\"]],\"sequentialminus\":[[0.0,\"#0d0887\"],[0.1111111111111111,\"#46039f\"],[0.2222222222222222,\"#7201a8\"],[0.3333333333333333,\"#9c179e\"],[0.4444444444444444,\"#bd3786\"],[0.5555555555555556,\"#d8576b\"],[0.6666666666666666,\"#ed7953\"],[0.7777777777777778,\"#fb9f3a\"],[0.8888888888888888,\"#fdca26\"],[1.0,\"#f0f921\"]]},\"colorway\":[\"#636efa\",\"#EF553B\",\"#00cc96\",\"#ab63fa\",\"#FFA15A\",\"#19d3f3\",\"#FF6692\",\"#B6E880\",\"#FF97FF\",\"#FECB52\"],\"font\":{\"color\":\"#2a3f5f\"},\"geo\":{\"bgcolor\":\"white\",\"lakecolor\":\"white\",\"landcolor\":\"#E5ECF6\",\"showlakes\":true,\"showland\":true,\"subunitcolor\":\"white\"},\"hoverlabel\":{\"align\":\"left\"},\"hovermode\":\"closest\",\"mapbox\":{\"style\":\"light\"},\"paper_bgcolor\":\"white\",\"plot_bgcolor\":\"#E5ECF6\",\"polar\":{\"angularaxis\":{\"gridcolor\":\"white\",\"linecolor\":\"white\",\"ticks\":\"\"},\"bgcolor\":\"#E5ECF6\",\"radialaxis\":{\"gridcolor\":\"white\",\"linecolor\":\"white\",\"ticks\":\"\"}},\"scene\":{\"xaxis\":{\"backgroundcolor\":\"#E5ECF6\",\"gridcolor\":\"white\",\"gridwidth\":2,\"linecolor\":\"white\",\"showbackground\":true,\"ticks\":\"\",\"zerolinecolor\":\"white\"},\"yaxis\":{\"backgroundcolor\":\"#E5ECF6\",\"gridcolor\":\"white\",\"gridwidth\":2,\"linecolor\":\"white\",\"showbackground\":true,\"ticks\":\"\",\"zerolinecolor\":\"white\"},\"zaxis\":{\"backgroundcolor\":\"#E5ECF6\",\"gridcolor\":\"white\",\"gridwidth\":2,\"linecolor\":\"white\",\"showbackground\":true,\"ticks\":\"\",\"zerolinecolor\":\"white\"}},\"shapedefaults\":{\"line\":{\"color\":\"#2a3f5f\"}},\"ternary\":{\"aaxis\":{\"gridcolor\":\"white\",\"linecolor\":\"white\",\"ticks\":\"\"},\"baxis\":{\"gridcolor\":\"white\",\"linecolor\":\"white\",\"ticks\":\"\"},\"bgcolor\":\"#E5ECF6\",\"caxis\":{\"gridcolor\":\"white\",\"linecolor\":\"white\",\"ticks\":\"\"}},\"title\":{\"x\":0.05},\"xaxis\":{\"automargin\":true,\"gridcolor\":\"white\",\"linecolor\":\"white\",\"ticks\":\"\",\"title\":{\"standoff\":15},\"zerolinecolor\":\"white\",\"zerolinewidth\":2},\"yaxis\":{\"automargin\":true,\"gridcolor\":\"white\",\"linecolor\":\"white\",\"ticks\":\"\",\"title\":{\"standoff\":15},\"zerolinecolor\":\"white\",\"zerolinewidth\":2}}},\"title\":{\"font\":{\"color\":\"#4D5663\"}},\"xaxis\":{\"gridcolor\":\"#E1E5ED\",\"showgrid\":true,\"tickfont\":{\"color\":\"#4D5663\"},\"title\":{\"font\":{\"color\":\"#4D5663\"},\"text\":\"\"},\"zerolinecolor\":\"#E1E5ED\"},\"yaxis\":{\"gridcolor\":\"#E1E5ED\",\"showgrid\":true,\"tickfont\":{\"color\":\"#4D5663\"},\"title\":{\"font\":{\"color\":\"#4D5663\"},\"text\":\"\"},\"zerolinecolor\":\"#E1E5ED\"}},                        {\"showLink\": true, \"linkText\": \"Export to plot.ly\", \"plotlyServerURL\": \"https://plot.ly\", \"responsive\": true}                    ).then(function(){\n",
       "                            \n",
       "var gd = document.getElementById('1c571136-7e91-4a5d-910e-b5de844a133e');\n",
       "var x = new MutationObserver(function (mutations, observer) {{\n",
       "        var display = window.getComputedStyle(gd).display;\n",
       "        if (!display || display === 'none') {{\n",
       "            console.log([gd, 'removed!']);\n",
       "            Plotly.purge(gd);\n",
       "            observer.disconnect();\n",
       "        }}\n",
       "}});\n",
       "\n",
       "// Listen for the removal of the full notebook cells\n",
       "var notebookContainer = gd.closest('#notebook-container');\n",
       "if (notebookContainer) {{\n",
       "    x.observe(notebookContainer, {childList: true});\n",
       "}}\n",
       "\n",
       "// Listen for the clearing of the current output cell\n",
       "var outputEl = gd.closest('.output');\n",
       "if (outputEl) {{\n",
       "    x.observe(outputEl, {childList: true});\n",
       "}}\n",
       "\n",
       "                        })                };                });            </script>        </div>"
      ]
     },
     "metadata": {}
    }
   ],
   "metadata": {}
  },
  {
   "cell_type": "code",
   "execution_count": 5,
   "source": [
    "df.iplot(kind='hist',title='Histograma aninhado')"
   ],
   "outputs": [
    {
     "output_type": "display_data",
     "data": {
      "application/vnd.plotly.v1+json": {
       "config": {
        "linkText": "Export to plot.ly",
        "plotlyServerURL": "https://plot.ly",
        "showLink": true
       },
       "data": [
        {
         "histfunc": "count",
         "histnorm": "",
         "marker": {
          "color": "rgba(255, 153, 51, 1.0)",
          "line": {
           "color": "#4D5663",
           "width": 1.3
          }
         },
         "name": "A",
         "opacity": 0.8,
         "orientation": "v",
         "type": "histogram",
         "x": [
          -1.0616056426553135,
          0.84463028180642,
          -0.7994213222884078,
          -0.7835889634466429,
          -1.8478992321092105,
          -0.3940059340030168,
          1.076744721686337,
          0.6194257207257651,
          -0.44275523295649183,
          0.7224476610773456,
          -0.8179634255258162,
          0.20768382830173507,
          -0.6405054436831655,
          0.16509757776637599,
          2.1560090224294277,
          -0.5237596384490412,
          1.3420925412669753,
          0.7832779290327149,
          -1.9685386786046728,
          -0.10723584705521351,
          1.324902444184136,
          0.6310542205837729,
          1.0293350517449475,
          0.01835552902121153,
          0.8102280138988506,
          1.3294433688162477,
          -0.12371904779162039,
          1.007336908924887,
          0.5717268849741876,
          -0.9038592563128557,
          0.41513820542185575,
          0.33739402576381555,
          2.0331929392939614,
          -1.1403520756173164,
          -0.13903403222704938,
          -1.846257232138857,
          0.40625155101620536,
          0.7545298587669155,
          0.01416727685744479,
          2.3746010689700796,
          -0.027709953752846232,
          0.7890163375947945,
          0.5351736769298666,
          -0.618790933142192,
          1.0687105515657664,
          0.6366758756169538,
          0.04603066239473176,
          -0.033772110469792276,
          -1.1414377003111533,
          0.5148492919184648,
          0.02765307455292337,
          2.218011732178364,
          0.025367941640780396,
          -1.1172123281956214,
          0.6298574708517063,
          0.22539024170444744,
          0.5776255950982719,
          -0.24457152710760374,
          0.7250913998176868,
          -0.013671156098843304,
          -2.1240968342101936,
          2.1676935818232113,
          -0.514005077661339,
          1.4827864487597728,
          -1.0316726470925472,
          0.5360513489359415,
          -0.39478640831267664,
          0.38218960250248085,
          -0.8257070073051498,
          1.979202676997199,
          -0.03543574481255134,
          -0.7354144239454079,
          -2.1145040631059815,
          -1.3590166358170264,
          2.176672149632494,
          -0.34140642225282014,
          0.23776624222686196,
          1.0922292487270366,
          -0.7179869460199423,
          -0.9512206989890962,
          -0.31073624753026424,
          -0.839434702866719,
          1.8339080927612703,
          -1.586889614725938,
          0.7110537565295657,
          -0.14308370315792643,
          -0.39889286533731405,
          -0.9308938354075316,
          0.934887091362962,
          -1.1845755724125042,
          0.9150409322425486,
          1.7269395066522322,
          0.24336863646120083,
          -1.2239949079195445,
          -0.35833287212461784,
          -0.24252356772378084,
          3.0792614488309957,
          0.32806798852567676,
          1.062997567662617,
          -1.6275985324331361
         ]
        },
        {
         "histfunc": "count",
         "histnorm": "",
         "marker": {
          "color": "rgba(55, 128, 191, 1.0)",
          "line": {
           "color": "#4D5663",
           "width": 1.3
          }
         },
         "name": "B",
         "opacity": 0.8,
         "orientation": "v",
         "type": "histogram",
         "x": [
          -1.4061296502513496,
          -0.8605476869226552,
          3.1079198426176236,
          -0.5375674285082149,
          1.7591818688871492,
          -1.421746123620514,
          0.887160343933532,
          -0.5945670939071451,
          -0.2940122533143056,
          -1.1576654731122085,
          -0.8254361947052757,
          -2.657688413200767,
          0.5272067100660717,
          -0.6445465382037981,
          -1.0062726075775883,
          -0.45049824441374003,
          -0.41718987271770736,
          -0.11777707665941599,
          -0.20293202396112564,
          -0.6968116515986089,
          1.1996152352231564,
          0.15006445339597316,
          -0.46433854793795426,
          0.5151781601470902,
          -1.1911459100323156,
          -0.8631523548926949,
          -1.1799107867625094,
          0.5153135447093408,
          -0.6600906312561039,
          0.6833040431020082,
          1.0996044976628376,
          -1.71141718049521,
          1.4161497187416097,
          -0.605726430050744,
          -0.26299763409726346,
          0.03650937811855479,
          -2.1990412054938333,
          0.9939184888889646,
          2.073754280227192,
          -2.4373859438605048,
          -0.35953274856873635,
          -1.231330565976319,
          0.42889778320800837,
          0.8205368195181917,
          -2.5403801810620315,
          -0.11193052987855279,
          -0.8257233921541957,
          0.6711407728034975,
          -1.0883291275355174,
          -1.2431473885344007,
          -1.2124129450532888,
          1.5077802510416658,
          1.389941333221869,
          -0.876445207680125,
          -1.0537823424998123,
          -0.12466335569344565,
          -0.7463924036541828,
          -0.3336679388327956,
          -0.06523949338906282,
          1.0356976770984694,
          1.1759839230066704,
          -1.823007158530266,
          0.5464364331784567,
          0.22457421991426857,
          -0.34223516358365164,
          0.3088943764746163,
          -0.7148967769359752,
          -1.3263650141406353,
          -0.3806636965567209,
          -0.535146417498442,
          -0.7445469448559587,
          1.9357781615630363,
          -0.044550704890453326,
          -0.2634915058959495,
          -0.48360483667209986,
          0.6523076758424777,
          -0.6277257787773444,
          -1.3769968384513736,
          -1.025322921468264,
          0.9363464591320858,
          0.574730714305171,
          -0.25961385337215,
          -0.2493741705209992,
          -1.2300707105323592,
          -1.6458748048549066,
          0.40872150828956505,
          0.22398016365157816,
          1.122002447359591,
          -0.9072592794610523,
          0.6585875449492239,
          0.4905974311604524,
          -1.3102483765222732,
          0.6900857315518574,
          0.6891573074537969,
          -0.13277433102073324,
          2.7042962159214254,
          0.4389844978648537,
          0.4218776976580409,
          0.2776296579812439,
          -1.251443073841751
         ]
        },
        {
         "histfunc": "count",
         "histnorm": "",
         "marker": {
          "color": "rgba(50, 171, 96, 1.0)",
          "line": {
           "color": "#4D5663",
           "width": 1.3
          }
         },
         "name": "C",
         "opacity": 0.8,
         "orientation": "v",
         "type": "histogram",
         "x": [
          -0.5198622206054472,
          1.3994179613328381,
          0.6651284581330063,
          0.43740619570858197,
          -0.21443239612415022,
          -0.7931394494868578,
          -1.5498527116903105,
          0.1798188887112353,
          0.550873336460979,
          -0.41481222826706754,
          1.4779841392733664,
          -0.6775689282126774,
          -1.6566796917583,
          -1.372486620245075,
          -0.49589172351543254,
          1.1434484984573428,
          0.2802851566270074,
          -1.7631833849661653,
          1.147255012374709,
          0.38604832545619744,
          1.195752425244848,
          1.4753033565187736,
          0.41995507937655563,
          -0.04302464614288543,
          -1.5261645404531246,
          0.7378283575376653,
          -0.23866271185040008,
          -0.16921745283265616,
          1.248312773445199,
          0.37602247960234636,
          -0.3601694088609228,
          0.5942529200991812,
          0.2774331204055344,
          -0.05492971482103691,
          1.292815388032225,
          0.48225774255711246,
          -0.5825892216595707,
          0.4856254966648266,
          0.27628128846544325,
          0.9314697665946259,
          -0.7498640130376074,
          -0.8791354634189266,
          0.15978266856638615,
          -0.14356930391153475,
          1.6240296722615672,
          0.12590075892171548,
          -0.32738539803900996,
          1.8230020301986243,
          0.6646232997876755,
          0.8092009226331874,
          -0.46691707738284977,
          -0.24223645551822373,
          -0.6697236123002671,
          0.15456617407291848,
          0.11447050446277304,
          1.0466405807676458,
          0.7510914964717886,
          1.1151914979274848,
          0.13512921198242925,
          -0.18364958445284887,
          2.563218583378711,
          0.6028109986893042,
          -0.1400162575755426,
          0.560420564787584,
          -0.3249264357413886,
          -0.6938775422619644,
          0.022087007424506536,
          0.437112975050448,
          0.6517507009199873,
          1.037414812764746,
          -0.6011895687481263,
          -0.8386656946690673,
          -1.3343208677345646,
          -1.2505152898432528,
          0.7815155507945947,
          0.7869163219909094,
          1.4917801517147236,
          0.4073218138269973,
          -0.5137883814916262,
          -0.21824382172629167,
          1.1011070642783432,
          -0.29116508661541524,
          -0.9382108763079782,
          -0.6543373897136285,
          0.957581395135701,
          -1.79850245203027,
          -1.8592913376791669,
          -0.32393078228961797,
          1.1337189712149758,
          -1.3688535434120228,
          0.6178294922056204,
          -0.046264165594208796,
          -0.9492111320639034,
          -2.0800649214929936,
          -0.05580371277194583,
          -0.46776147304644305,
          -0.28734552295939825,
          0.4664230219866711,
          -0.375199292066655,
          0.6723500411322696
         ]
        },
        {
         "histfunc": "count",
         "histnorm": "",
         "marker": {
          "color": "rgba(128, 0, 128, 1.0)",
          "line": {
           "color": "#4D5663",
           "width": 1.3
          }
         },
         "name": "D",
         "opacity": 0.8,
         "orientation": "v",
         "type": "histogram",
         "x": [
          -2.466843767862322,
          0.30518324852130235,
          0.2879928685553779,
          -0.2553488856479903,
          1.1870351545732067,
          -0.34895266413031245,
          0.20784490277036344,
          0.8740297741188292,
          -1.408829268171607,
          -1.2966349358455131,
          1.517842785986865,
          -0.4150772185290856,
          -0.8377754388969376,
          0.04863778618204833,
          1.769801248069825,
          -0.290818477754155,
          0.6457960539683207,
          -1.4762248013809163,
          -0.857791191139679,
          -1.5596795487283353,
          -0.2718312486193452,
          0.597934648367064,
          -1.1538032329720636,
          0.8969303205737439,
          0.3475256840391271,
          -0.4139123404720647,
          -0.9849136904894206,
          0.5293352221717437,
          -0.32175449240292897,
          -1.3871324116868662,
          0.829227937446667,
          -1.1915235725927322,
          -1.7511316324253197,
          -0.40032482661191715,
          1.984896163588138,
          0.5772925378440921,
          -1.6741983222032455,
          0.7937958990503413,
          -0.48637050358959527,
          2.076637199162124,
          0.19217440859811577,
          0.5529411553222717,
          0.6939433976754846,
          0.4308865710210343,
          -0.1102606861929571,
          -0.7545595394852807,
          -0.3899537520070091,
          2.0140127139128645,
          1.488592127356945,
          -1.0070760410062511,
          0.8838649048533894,
          -0.5195032703574405,
          1.5277122927213094,
          -1.4626923540592407,
          -1.013768531042009,
          -0.6890099807613763,
          0.7452964551391676,
          1.5511008020234067,
          0.6076950700152567,
          -2.4232609158838625,
          -0.8222188085545542,
          1.3334386274963108,
          0.42017196790788947,
          -0.44298913933045714,
          -0.2811646523877003,
          -0.3006753617684478,
          1.3934259825841961,
          0.3043163683803821,
          1.331878464612429,
          -0.7643688748996726,
          -0.5167272258067401,
          -0.8651364075908831,
          0.4903030057256085,
          0.9939809857893049,
          -0.17342383803667194,
          -0.023310008584991507,
          0.12088991243550601,
          0.7805369434338278,
          -0.30647943405639255,
          0.014794578891910878,
          0.367206965161644,
          0.5013362230083188,
          -0.5984141601359485,
          0.12310777077245284,
          -1.0609507357138086,
          -1.1224879102455791,
          -1.3181420004211575,
          -0.9115695576932837,
          -0.2856691402170177,
          -0.2576111411138388,
          -0.5097255900889629,
          -0.004381392325160754,
          -1.8743898354994784,
          0.38230985288764796,
          0.6892615560042171,
          -0.10244788222362308,
          1.684338465595292,
          0.29477100091746805,
          0.051291096003986895,
          0.3796986039746632
         ]
        }
       ],
       "layout": {
        "barmode": "overlay",
        "legend": {
         "bgcolor": "#F5F6F9",
         "font": {
          "color": "#4D5663"
         }
        },
        "paper_bgcolor": "#F5F6F9",
        "plot_bgcolor": "#F5F6F9",
        "template": {
         "data": {
          "bar": [
           {
            "error_x": {
             "color": "#2a3f5f"
            },
            "error_y": {
             "color": "#2a3f5f"
            },
            "marker": {
             "line": {
              "color": "#E5ECF6",
              "width": 0.5
             },
             "pattern": {
              "fillmode": "overlay",
              "size": 10,
              "solidity": 0.2
             }
            },
            "type": "bar"
           }
          ],
          "barpolar": [
           {
            "marker": {
             "line": {
              "color": "#E5ECF6",
              "width": 0.5
             },
             "pattern": {
              "fillmode": "overlay",
              "size": 10,
              "solidity": 0.2
             }
            },
            "type": "barpolar"
           }
          ],
          "carpet": [
           {
            "aaxis": {
             "endlinecolor": "#2a3f5f",
             "gridcolor": "white",
             "linecolor": "white",
             "minorgridcolor": "white",
             "startlinecolor": "#2a3f5f"
            },
            "baxis": {
             "endlinecolor": "#2a3f5f",
             "gridcolor": "white",
             "linecolor": "white",
             "minorgridcolor": "white",
             "startlinecolor": "#2a3f5f"
            },
            "type": "carpet"
           }
          ],
          "choropleth": [
           {
            "colorbar": {
             "outlinewidth": 0,
             "ticks": ""
            },
            "type": "choropleth"
           }
          ],
          "contour": [
           {
            "colorbar": {
             "outlinewidth": 0,
             "ticks": ""
            },
            "colorscale": [
             [
              0,
              "#0d0887"
             ],
             [
              0.1111111111111111,
              "#46039f"
             ],
             [
              0.2222222222222222,
              "#7201a8"
             ],
             [
              0.3333333333333333,
              "#9c179e"
             ],
             [
              0.4444444444444444,
              "#bd3786"
             ],
             [
              0.5555555555555556,
              "#d8576b"
             ],
             [
              0.6666666666666666,
              "#ed7953"
             ],
             [
              0.7777777777777778,
              "#fb9f3a"
             ],
             [
              0.8888888888888888,
              "#fdca26"
             ],
             [
              1,
              "#f0f921"
             ]
            ],
            "type": "contour"
           }
          ],
          "contourcarpet": [
           {
            "colorbar": {
             "outlinewidth": 0,
             "ticks": ""
            },
            "type": "contourcarpet"
           }
          ],
          "heatmap": [
           {
            "colorbar": {
             "outlinewidth": 0,
             "ticks": ""
            },
            "colorscale": [
             [
              0,
              "#0d0887"
             ],
             [
              0.1111111111111111,
              "#46039f"
             ],
             [
              0.2222222222222222,
              "#7201a8"
             ],
             [
              0.3333333333333333,
              "#9c179e"
             ],
             [
              0.4444444444444444,
              "#bd3786"
             ],
             [
              0.5555555555555556,
              "#d8576b"
             ],
             [
              0.6666666666666666,
              "#ed7953"
             ],
             [
              0.7777777777777778,
              "#fb9f3a"
             ],
             [
              0.8888888888888888,
              "#fdca26"
             ],
             [
              1,
              "#f0f921"
             ]
            ],
            "type": "heatmap"
           }
          ],
          "heatmapgl": [
           {
            "colorbar": {
             "outlinewidth": 0,
             "ticks": ""
            },
            "colorscale": [
             [
              0,
              "#0d0887"
             ],
             [
              0.1111111111111111,
              "#46039f"
             ],
             [
              0.2222222222222222,
              "#7201a8"
             ],
             [
              0.3333333333333333,
              "#9c179e"
             ],
             [
              0.4444444444444444,
              "#bd3786"
             ],
             [
              0.5555555555555556,
              "#d8576b"
             ],
             [
              0.6666666666666666,
              "#ed7953"
             ],
             [
              0.7777777777777778,
              "#fb9f3a"
             ],
             [
              0.8888888888888888,
              "#fdca26"
             ],
             [
              1,
              "#f0f921"
             ]
            ],
            "type": "heatmapgl"
           }
          ],
          "histogram": [
           {
            "marker": {
             "pattern": {
              "fillmode": "overlay",
              "size": 10,
              "solidity": 0.2
             }
            },
            "type": "histogram"
           }
          ],
          "histogram2d": [
           {
            "colorbar": {
             "outlinewidth": 0,
             "ticks": ""
            },
            "colorscale": [
             [
              0,
              "#0d0887"
             ],
             [
              0.1111111111111111,
              "#46039f"
             ],
             [
              0.2222222222222222,
              "#7201a8"
             ],
             [
              0.3333333333333333,
              "#9c179e"
             ],
             [
              0.4444444444444444,
              "#bd3786"
             ],
             [
              0.5555555555555556,
              "#d8576b"
             ],
             [
              0.6666666666666666,
              "#ed7953"
             ],
             [
              0.7777777777777778,
              "#fb9f3a"
             ],
             [
              0.8888888888888888,
              "#fdca26"
             ],
             [
              1,
              "#f0f921"
             ]
            ],
            "type": "histogram2d"
           }
          ],
          "histogram2dcontour": [
           {
            "colorbar": {
             "outlinewidth": 0,
             "ticks": ""
            },
            "colorscale": [
             [
              0,
              "#0d0887"
             ],
             [
              0.1111111111111111,
              "#46039f"
             ],
             [
              0.2222222222222222,
              "#7201a8"
             ],
             [
              0.3333333333333333,
              "#9c179e"
             ],
             [
              0.4444444444444444,
              "#bd3786"
             ],
             [
              0.5555555555555556,
              "#d8576b"
             ],
             [
              0.6666666666666666,
              "#ed7953"
             ],
             [
              0.7777777777777778,
              "#fb9f3a"
             ],
             [
              0.8888888888888888,
              "#fdca26"
             ],
             [
              1,
              "#f0f921"
             ]
            ],
            "type": "histogram2dcontour"
           }
          ],
          "mesh3d": [
           {
            "colorbar": {
             "outlinewidth": 0,
             "ticks": ""
            },
            "type": "mesh3d"
           }
          ],
          "parcoords": [
           {
            "line": {
             "colorbar": {
              "outlinewidth": 0,
              "ticks": ""
             }
            },
            "type": "parcoords"
           }
          ],
          "pie": [
           {
            "automargin": true,
            "type": "pie"
           }
          ],
          "scatter": [
           {
            "marker": {
             "colorbar": {
              "outlinewidth": 0,
              "ticks": ""
             }
            },
            "type": "scatter"
           }
          ],
          "scatter3d": [
           {
            "line": {
             "colorbar": {
              "outlinewidth": 0,
              "ticks": ""
             }
            },
            "marker": {
             "colorbar": {
              "outlinewidth": 0,
              "ticks": ""
             }
            },
            "type": "scatter3d"
           }
          ],
          "scattercarpet": [
           {
            "marker": {
             "colorbar": {
              "outlinewidth": 0,
              "ticks": ""
             }
            },
            "type": "scattercarpet"
           }
          ],
          "scattergeo": [
           {
            "marker": {
             "colorbar": {
              "outlinewidth": 0,
              "ticks": ""
             }
            },
            "type": "scattergeo"
           }
          ],
          "scattergl": [
           {
            "marker": {
             "colorbar": {
              "outlinewidth": 0,
              "ticks": ""
             }
            },
            "type": "scattergl"
           }
          ],
          "scattermapbox": [
           {
            "marker": {
             "colorbar": {
              "outlinewidth": 0,
              "ticks": ""
             }
            },
            "type": "scattermapbox"
           }
          ],
          "scatterpolar": [
           {
            "marker": {
             "colorbar": {
              "outlinewidth": 0,
              "ticks": ""
             }
            },
            "type": "scatterpolar"
           }
          ],
          "scatterpolargl": [
           {
            "marker": {
             "colorbar": {
              "outlinewidth": 0,
              "ticks": ""
             }
            },
            "type": "scatterpolargl"
           }
          ],
          "scatterternary": [
           {
            "marker": {
             "colorbar": {
              "outlinewidth": 0,
              "ticks": ""
             }
            },
            "type": "scatterternary"
           }
          ],
          "surface": [
           {
            "colorbar": {
             "outlinewidth": 0,
             "ticks": ""
            },
            "colorscale": [
             [
              0,
              "#0d0887"
             ],
             [
              0.1111111111111111,
              "#46039f"
             ],
             [
              0.2222222222222222,
              "#7201a8"
             ],
             [
              0.3333333333333333,
              "#9c179e"
             ],
             [
              0.4444444444444444,
              "#bd3786"
             ],
             [
              0.5555555555555556,
              "#d8576b"
             ],
             [
              0.6666666666666666,
              "#ed7953"
             ],
             [
              0.7777777777777778,
              "#fb9f3a"
             ],
             [
              0.8888888888888888,
              "#fdca26"
             ],
             [
              1,
              "#f0f921"
             ]
            ],
            "type": "surface"
           }
          ],
          "table": [
           {
            "cells": {
             "fill": {
              "color": "#EBF0F8"
             },
             "line": {
              "color": "white"
             }
            },
            "header": {
             "fill": {
              "color": "#C8D4E3"
             },
             "line": {
              "color": "white"
             }
            },
            "type": "table"
           }
          ]
         },
         "layout": {
          "annotationdefaults": {
           "arrowcolor": "#2a3f5f",
           "arrowhead": 0,
           "arrowwidth": 1
          },
          "autotypenumbers": "strict",
          "coloraxis": {
           "colorbar": {
            "outlinewidth": 0,
            "ticks": ""
           }
          },
          "colorscale": {
           "diverging": [
            [
             0,
             "#8e0152"
            ],
            [
             0.1,
             "#c51b7d"
            ],
            [
             0.2,
             "#de77ae"
            ],
            [
             0.3,
             "#f1b6da"
            ],
            [
             0.4,
             "#fde0ef"
            ],
            [
             0.5,
             "#f7f7f7"
            ],
            [
             0.6,
             "#e6f5d0"
            ],
            [
             0.7,
             "#b8e186"
            ],
            [
             0.8,
             "#7fbc41"
            ],
            [
             0.9,
             "#4d9221"
            ],
            [
             1,
             "#276419"
            ]
           ],
           "sequential": [
            [
             0,
             "#0d0887"
            ],
            [
             0.1111111111111111,
             "#46039f"
            ],
            [
             0.2222222222222222,
             "#7201a8"
            ],
            [
             0.3333333333333333,
             "#9c179e"
            ],
            [
             0.4444444444444444,
             "#bd3786"
            ],
            [
             0.5555555555555556,
             "#d8576b"
            ],
            [
             0.6666666666666666,
             "#ed7953"
            ],
            [
             0.7777777777777778,
             "#fb9f3a"
            ],
            [
             0.8888888888888888,
             "#fdca26"
            ],
            [
             1,
             "#f0f921"
            ]
           ],
           "sequentialminus": [
            [
             0,
             "#0d0887"
            ],
            [
             0.1111111111111111,
             "#46039f"
            ],
            [
             0.2222222222222222,
             "#7201a8"
            ],
            [
             0.3333333333333333,
             "#9c179e"
            ],
            [
             0.4444444444444444,
             "#bd3786"
            ],
            [
             0.5555555555555556,
             "#d8576b"
            ],
            [
             0.6666666666666666,
             "#ed7953"
            ],
            [
             0.7777777777777778,
             "#fb9f3a"
            ],
            [
             0.8888888888888888,
             "#fdca26"
            ],
            [
             1,
             "#f0f921"
            ]
           ]
          },
          "colorway": [
           "#636efa",
           "#EF553B",
           "#00cc96",
           "#ab63fa",
           "#FFA15A",
           "#19d3f3",
           "#FF6692",
           "#B6E880",
           "#FF97FF",
           "#FECB52"
          ],
          "font": {
           "color": "#2a3f5f"
          },
          "geo": {
           "bgcolor": "white",
           "lakecolor": "white",
           "landcolor": "#E5ECF6",
           "showlakes": true,
           "showland": true,
           "subunitcolor": "white"
          },
          "hoverlabel": {
           "align": "left"
          },
          "hovermode": "closest",
          "mapbox": {
           "style": "light"
          },
          "paper_bgcolor": "white",
          "plot_bgcolor": "#E5ECF6",
          "polar": {
           "angularaxis": {
            "gridcolor": "white",
            "linecolor": "white",
            "ticks": ""
           },
           "bgcolor": "#E5ECF6",
           "radialaxis": {
            "gridcolor": "white",
            "linecolor": "white",
            "ticks": ""
           }
          },
          "scene": {
           "xaxis": {
            "backgroundcolor": "#E5ECF6",
            "gridcolor": "white",
            "gridwidth": 2,
            "linecolor": "white",
            "showbackground": true,
            "ticks": "",
            "zerolinecolor": "white"
           },
           "yaxis": {
            "backgroundcolor": "#E5ECF6",
            "gridcolor": "white",
            "gridwidth": 2,
            "linecolor": "white",
            "showbackground": true,
            "ticks": "",
            "zerolinecolor": "white"
           },
           "zaxis": {
            "backgroundcolor": "#E5ECF6",
            "gridcolor": "white",
            "gridwidth": 2,
            "linecolor": "white",
            "showbackground": true,
            "ticks": "",
            "zerolinecolor": "white"
           }
          },
          "shapedefaults": {
           "line": {
            "color": "#2a3f5f"
           }
          },
          "ternary": {
           "aaxis": {
            "gridcolor": "white",
            "linecolor": "white",
            "ticks": ""
           },
           "baxis": {
            "gridcolor": "white",
            "linecolor": "white",
            "ticks": ""
           },
           "bgcolor": "#E5ECF6",
           "caxis": {
            "gridcolor": "white",
            "linecolor": "white",
            "ticks": ""
           }
          },
          "title": {
           "x": 0.05
          },
          "xaxis": {
           "automargin": true,
           "gridcolor": "white",
           "linecolor": "white",
           "ticks": "",
           "title": {
            "standoff": 15
           },
           "zerolinecolor": "white",
           "zerolinewidth": 2
          },
          "yaxis": {
           "automargin": true,
           "gridcolor": "white",
           "linecolor": "white",
           "ticks": "",
           "title": {
            "standoff": 15
           },
           "zerolinecolor": "white",
           "zerolinewidth": 2
          }
         }
        },
        "title": {
         "font": {
          "color": "#4D5663"
         },
         "text": "Histograma aninhado"
        },
        "xaxis": {
         "gridcolor": "#E1E5ED",
         "showgrid": true,
         "tickfont": {
          "color": "#4D5663"
         },
         "title": {
          "font": {
           "color": "#4D5663"
          },
          "text": ""
         },
         "zerolinecolor": "#E1E5ED"
        },
        "yaxis": {
         "gridcolor": "#E1E5ED",
         "showgrid": true,
         "tickfont": {
          "color": "#4D5663"
         },
         "title": {
          "font": {
           "color": "#4D5663"
          },
          "text": ""
         },
         "zerolinecolor": "#E1E5ED"
        }
       }
      },
      "text/html": [
       "<div>                            <div id=\"503fd54a-1de6-42eb-9982-9c9665a55085\" class=\"plotly-graph-div\" style=\"height:525px; width:100%;\"></div>            <script type=\"text/javascript\">                require([\"plotly\"], function(Plotly) {                    window.PLOTLYENV=window.PLOTLYENV || {};\n",
       "                    window.PLOTLYENV.BASE_URL='https://plot.ly';                                    if (document.getElementById(\"503fd54a-1de6-42eb-9982-9c9665a55085\")) {                    Plotly.newPlot(                        \"503fd54a-1de6-42eb-9982-9c9665a55085\",                        [{\"histfunc\":\"count\",\"histnorm\":\"\",\"marker\":{\"color\":\"rgba(255, 153, 51, 1.0)\",\"line\":{\"color\":\"#4D5663\",\"width\":1.3}},\"name\":\"A\",\"opacity\":0.8,\"orientation\":\"v\",\"type\":\"histogram\",\"x\":[-1.0616056426553135,0.84463028180642,-0.7994213222884078,-0.7835889634466429,-1.8478992321092105,-0.3940059340030168,1.076744721686337,0.6194257207257651,-0.44275523295649183,0.7224476610773456,-0.8179634255258162,0.20768382830173507,-0.6405054436831655,0.16509757776637599,2.1560090224294277,-0.5237596384490412,1.3420925412669753,0.7832779290327149,-1.9685386786046728,-0.10723584705521351,1.324902444184136,0.6310542205837729,1.0293350517449475,0.01835552902121153,0.8102280138988506,1.3294433688162477,-0.12371904779162039,1.007336908924887,0.5717268849741876,-0.9038592563128557,0.41513820542185575,0.33739402576381555,2.0331929392939614,-1.1403520756173164,-0.13903403222704938,-1.846257232138857,0.40625155101620536,0.7545298587669155,0.01416727685744479,2.3746010689700796,-0.027709953752846232,0.7890163375947945,0.5351736769298666,-0.618790933142192,1.0687105515657664,0.6366758756169538,0.04603066239473176,-0.033772110469792276,-1.1414377003111533,0.5148492919184648,0.02765307455292337,2.218011732178364,0.025367941640780396,-1.1172123281956214,0.6298574708517063,0.22539024170444744,0.5776255950982719,-0.24457152710760374,0.7250913998176868,-0.013671156098843304,-2.1240968342101936,2.1676935818232113,-0.514005077661339,1.4827864487597728,-1.0316726470925472,0.5360513489359415,-0.39478640831267664,0.38218960250248085,-0.8257070073051498,1.979202676997199,-0.03543574481255134,-0.7354144239454079,-2.1145040631059815,-1.3590166358170264,2.176672149632494,-0.34140642225282014,0.23776624222686196,1.0922292487270366,-0.7179869460199423,-0.9512206989890962,-0.31073624753026424,-0.839434702866719,1.8339080927612703,-1.586889614725938,0.7110537565295657,-0.14308370315792643,-0.39889286533731405,-0.9308938354075316,0.934887091362962,-1.1845755724125042,0.9150409322425486,1.7269395066522322,0.24336863646120083,-1.2239949079195445,-0.35833287212461784,-0.24252356772378084,3.0792614488309957,0.32806798852567676,1.062997567662617,-1.6275985324331361]},{\"histfunc\":\"count\",\"histnorm\":\"\",\"marker\":{\"color\":\"rgba(55, 128, 191, 1.0)\",\"line\":{\"color\":\"#4D5663\",\"width\":1.3}},\"name\":\"B\",\"opacity\":0.8,\"orientation\":\"v\",\"type\":\"histogram\",\"x\":[-1.4061296502513496,-0.8605476869226552,3.1079198426176236,-0.5375674285082149,1.7591818688871492,-1.421746123620514,0.887160343933532,-0.5945670939071451,-0.2940122533143056,-1.1576654731122085,-0.8254361947052757,-2.657688413200767,0.5272067100660717,-0.6445465382037981,-1.0062726075775883,-0.45049824441374003,-0.41718987271770736,-0.11777707665941599,-0.20293202396112564,-0.6968116515986089,1.1996152352231564,0.15006445339597316,-0.46433854793795426,0.5151781601470902,-1.1911459100323156,-0.8631523548926949,-1.1799107867625094,0.5153135447093408,-0.6600906312561039,0.6833040431020082,1.0996044976628376,-1.71141718049521,1.4161497187416097,-0.605726430050744,-0.26299763409726346,0.03650937811855479,-2.1990412054938333,0.9939184888889646,2.073754280227192,-2.4373859438605048,-0.35953274856873635,-1.231330565976319,0.42889778320800837,0.8205368195181917,-2.5403801810620315,-0.11193052987855279,-0.8257233921541957,0.6711407728034975,-1.0883291275355174,-1.2431473885344007,-1.2124129450532888,1.5077802510416658,1.389941333221869,-0.876445207680125,-1.0537823424998123,-0.12466335569344565,-0.7463924036541828,-0.3336679388327956,-0.06523949338906282,1.0356976770984694,1.1759839230066704,-1.823007158530266,0.5464364331784567,0.22457421991426857,-0.34223516358365164,0.3088943764746163,-0.7148967769359752,-1.3263650141406353,-0.3806636965567209,-0.535146417498442,-0.7445469448559587,1.9357781615630363,-0.044550704890453326,-0.2634915058959495,-0.48360483667209986,0.6523076758424777,-0.6277257787773444,-1.3769968384513736,-1.025322921468264,0.9363464591320858,0.574730714305171,-0.25961385337215,-0.2493741705209992,-1.2300707105323592,-1.6458748048549066,0.40872150828956505,0.22398016365157816,1.122002447359591,-0.9072592794610523,0.6585875449492239,0.4905974311604524,-1.3102483765222732,0.6900857315518574,0.6891573074537969,-0.13277433102073324,2.7042962159214254,0.4389844978648537,0.4218776976580409,0.2776296579812439,-1.251443073841751]},{\"histfunc\":\"count\",\"histnorm\":\"\",\"marker\":{\"color\":\"rgba(50, 171, 96, 1.0)\",\"line\":{\"color\":\"#4D5663\",\"width\":1.3}},\"name\":\"C\",\"opacity\":0.8,\"orientation\":\"v\",\"type\":\"histogram\",\"x\":[-0.5198622206054472,1.3994179613328381,0.6651284581330063,0.43740619570858197,-0.21443239612415022,-0.7931394494868578,-1.5498527116903105,0.1798188887112353,0.550873336460979,-0.41481222826706754,1.4779841392733664,-0.6775689282126774,-1.6566796917583,-1.372486620245075,-0.49589172351543254,1.1434484984573428,0.2802851566270074,-1.7631833849661653,1.147255012374709,0.38604832545619744,1.195752425244848,1.4753033565187736,0.41995507937655563,-0.04302464614288543,-1.5261645404531246,0.7378283575376653,-0.23866271185040008,-0.16921745283265616,1.248312773445199,0.37602247960234636,-0.3601694088609228,0.5942529200991812,0.2774331204055344,-0.05492971482103691,1.292815388032225,0.48225774255711246,-0.5825892216595707,0.4856254966648266,0.27628128846544325,0.9314697665946259,-0.7498640130376074,-0.8791354634189266,0.15978266856638615,-0.14356930391153475,1.6240296722615672,0.12590075892171548,-0.32738539803900996,1.8230020301986243,0.6646232997876755,0.8092009226331874,-0.46691707738284977,-0.24223645551822373,-0.6697236123002671,0.15456617407291848,0.11447050446277304,1.0466405807676458,0.7510914964717886,1.1151914979274848,0.13512921198242925,-0.18364958445284887,2.563218583378711,0.6028109986893042,-0.1400162575755426,0.560420564787584,-0.3249264357413886,-0.6938775422619644,0.022087007424506536,0.437112975050448,0.6517507009199873,1.037414812764746,-0.6011895687481263,-0.8386656946690673,-1.3343208677345646,-1.2505152898432528,0.7815155507945947,0.7869163219909094,1.4917801517147236,0.4073218138269973,-0.5137883814916262,-0.21824382172629167,1.1011070642783432,-0.29116508661541524,-0.9382108763079782,-0.6543373897136285,0.957581395135701,-1.79850245203027,-1.8592913376791669,-0.32393078228961797,1.1337189712149758,-1.3688535434120228,0.6178294922056204,-0.046264165594208796,-0.9492111320639034,-2.0800649214929936,-0.05580371277194583,-0.46776147304644305,-0.28734552295939825,0.4664230219866711,-0.375199292066655,0.6723500411322696]},{\"histfunc\":\"count\",\"histnorm\":\"\",\"marker\":{\"color\":\"rgba(128, 0, 128, 1.0)\",\"line\":{\"color\":\"#4D5663\",\"width\":1.3}},\"name\":\"D\",\"opacity\":0.8,\"orientation\":\"v\",\"type\":\"histogram\",\"x\":[-2.466843767862322,0.30518324852130235,0.2879928685553779,-0.2553488856479903,1.1870351545732067,-0.34895266413031245,0.20784490277036344,0.8740297741188292,-1.408829268171607,-1.2966349358455131,1.517842785986865,-0.4150772185290856,-0.8377754388969376,0.04863778618204833,1.769801248069825,-0.290818477754155,0.6457960539683207,-1.4762248013809163,-0.857791191139679,-1.5596795487283353,-0.2718312486193452,0.597934648367064,-1.1538032329720636,0.8969303205737439,0.3475256840391271,-0.4139123404720647,-0.9849136904894206,0.5293352221717437,-0.32175449240292897,-1.3871324116868662,0.829227937446667,-1.1915235725927322,-1.7511316324253197,-0.40032482661191715,1.984896163588138,0.5772925378440921,-1.6741983222032455,0.7937958990503413,-0.48637050358959527,2.076637199162124,0.19217440859811577,0.5529411553222717,0.6939433976754846,0.4308865710210343,-0.1102606861929571,-0.7545595394852807,-0.3899537520070091,2.0140127139128645,1.488592127356945,-1.0070760410062511,0.8838649048533894,-0.5195032703574405,1.5277122927213094,-1.4626923540592407,-1.013768531042009,-0.6890099807613763,0.7452964551391676,1.5511008020234067,0.6076950700152567,-2.4232609158838625,-0.8222188085545542,1.3334386274963108,0.42017196790788947,-0.44298913933045714,-0.2811646523877003,-0.3006753617684478,1.3934259825841961,0.3043163683803821,1.331878464612429,-0.7643688748996726,-0.5167272258067401,-0.8651364075908831,0.4903030057256085,0.9939809857893049,-0.17342383803667194,-0.023310008584991507,0.12088991243550601,0.7805369434338278,-0.30647943405639255,0.014794578891910878,0.367206965161644,0.5013362230083188,-0.5984141601359485,0.12310777077245284,-1.0609507357138086,-1.1224879102455791,-1.3181420004211575,-0.9115695576932837,-0.2856691402170177,-0.2576111411138388,-0.5097255900889629,-0.004381392325160754,-1.8743898354994784,0.38230985288764796,0.6892615560042171,-0.10244788222362308,1.684338465595292,0.29477100091746805,0.051291096003986895,0.3796986039746632]}],                        {\"barmode\":\"overlay\",\"legend\":{\"bgcolor\":\"#F5F6F9\",\"font\":{\"color\":\"#4D5663\"}},\"paper_bgcolor\":\"#F5F6F9\",\"plot_bgcolor\":\"#F5F6F9\",\"template\":{\"data\":{\"bar\":[{\"error_x\":{\"color\":\"#2a3f5f\"},\"error_y\":{\"color\":\"#2a3f5f\"},\"marker\":{\"line\":{\"color\":\"#E5ECF6\",\"width\":0.5},\"pattern\":{\"fillmode\":\"overlay\",\"size\":10,\"solidity\":0.2}},\"type\":\"bar\"}],\"barpolar\":[{\"marker\":{\"line\":{\"color\":\"#E5ECF6\",\"width\":0.5},\"pattern\":{\"fillmode\":\"overlay\",\"size\":10,\"solidity\":0.2}},\"type\":\"barpolar\"}],\"carpet\":[{\"aaxis\":{\"endlinecolor\":\"#2a3f5f\",\"gridcolor\":\"white\",\"linecolor\":\"white\",\"minorgridcolor\":\"white\",\"startlinecolor\":\"#2a3f5f\"},\"baxis\":{\"endlinecolor\":\"#2a3f5f\",\"gridcolor\":\"white\",\"linecolor\":\"white\",\"minorgridcolor\":\"white\",\"startlinecolor\":\"#2a3f5f\"},\"type\":\"carpet\"}],\"choropleth\":[{\"colorbar\":{\"outlinewidth\":0,\"ticks\":\"\"},\"type\":\"choropleth\"}],\"contour\":[{\"colorbar\":{\"outlinewidth\":0,\"ticks\":\"\"},\"colorscale\":[[0.0,\"#0d0887\"],[0.1111111111111111,\"#46039f\"],[0.2222222222222222,\"#7201a8\"],[0.3333333333333333,\"#9c179e\"],[0.4444444444444444,\"#bd3786\"],[0.5555555555555556,\"#d8576b\"],[0.6666666666666666,\"#ed7953\"],[0.7777777777777778,\"#fb9f3a\"],[0.8888888888888888,\"#fdca26\"],[1.0,\"#f0f921\"]],\"type\":\"contour\"}],\"contourcarpet\":[{\"colorbar\":{\"outlinewidth\":0,\"ticks\":\"\"},\"type\":\"contourcarpet\"}],\"heatmap\":[{\"colorbar\":{\"outlinewidth\":0,\"ticks\":\"\"},\"colorscale\":[[0.0,\"#0d0887\"],[0.1111111111111111,\"#46039f\"],[0.2222222222222222,\"#7201a8\"],[0.3333333333333333,\"#9c179e\"],[0.4444444444444444,\"#bd3786\"],[0.5555555555555556,\"#d8576b\"],[0.6666666666666666,\"#ed7953\"],[0.7777777777777778,\"#fb9f3a\"],[0.8888888888888888,\"#fdca26\"],[1.0,\"#f0f921\"]],\"type\":\"heatmap\"}],\"heatmapgl\":[{\"colorbar\":{\"outlinewidth\":0,\"ticks\":\"\"},\"colorscale\":[[0.0,\"#0d0887\"],[0.1111111111111111,\"#46039f\"],[0.2222222222222222,\"#7201a8\"],[0.3333333333333333,\"#9c179e\"],[0.4444444444444444,\"#bd3786\"],[0.5555555555555556,\"#d8576b\"],[0.6666666666666666,\"#ed7953\"],[0.7777777777777778,\"#fb9f3a\"],[0.8888888888888888,\"#fdca26\"],[1.0,\"#f0f921\"]],\"type\":\"heatmapgl\"}],\"histogram\":[{\"marker\":{\"pattern\":{\"fillmode\":\"overlay\",\"size\":10,\"solidity\":0.2}},\"type\":\"histogram\"}],\"histogram2d\":[{\"colorbar\":{\"outlinewidth\":0,\"ticks\":\"\"},\"colorscale\":[[0.0,\"#0d0887\"],[0.1111111111111111,\"#46039f\"],[0.2222222222222222,\"#7201a8\"],[0.3333333333333333,\"#9c179e\"],[0.4444444444444444,\"#bd3786\"],[0.5555555555555556,\"#d8576b\"],[0.6666666666666666,\"#ed7953\"],[0.7777777777777778,\"#fb9f3a\"],[0.8888888888888888,\"#fdca26\"],[1.0,\"#f0f921\"]],\"type\":\"histogram2d\"}],\"histogram2dcontour\":[{\"colorbar\":{\"outlinewidth\":0,\"ticks\":\"\"},\"colorscale\":[[0.0,\"#0d0887\"],[0.1111111111111111,\"#46039f\"],[0.2222222222222222,\"#7201a8\"],[0.3333333333333333,\"#9c179e\"],[0.4444444444444444,\"#bd3786\"],[0.5555555555555556,\"#d8576b\"],[0.6666666666666666,\"#ed7953\"],[0.7777777777777778,\"#fb9f3a\"],[0.8888888888888888,\"#fdca26\"],[1.0,\"#f0f921\"]],\"type\":\"histogram2dcontour\"}],\"mesh3d\":[{\"colorbar\":{\"outlinewidth\":0,\"ticks\":\"\"},\"type\":\"mesh3d\"}],\"parcoords\":[{\"line\":{\"colorbar\":{\"outlinewidth\":0,\"ticks\":\"\"}},\"type\":\"parcoords\"}],\"pie\":[{\"automargin\":true,\"type\":\"pie\"}],\"scatter\":[{\"marker\":{\"colorbar\":{\"outlinewidth\":0,\"ticks\":\"\"}},\"type\":\"scatter\"}],\"scatter3d\":[{\"line\":{\"colorbar\":{\"outlinewidth\":0,\"ticks\":\"\"}},\"marker\":{\"colorbar\":{\"outlinewidth\":0,\"ticks\":\"\"}},\"type\":\"scatter3d\"}],\"scattercarpet\":[{\"marker\":{\"colorbar\":{\"outlinewidth\":0,\"ticks\":\"\"}},\"type\":\"scattercarpet\"}],\"scattergeo\":[{\"marker\":{\"colorbar\":{\"outlinewidth\":0,\"ticks\":\"\"}},\"type\":\"scattergeo\"}],\"scattergl\":[{\"marker\":{\"colorbar\":{\"outlinewidth\":0,\"ticks\":\"\"}},\"type\":\"scattergl\"}],\"scattermapbox\":[{\"marker\":{\"colorbar\":{\"outlinewidth\":0,\"ticks\":\"\"}},\"type\":\"scattermapbox\"}],\"scatterpolar\":[{\"marker\":{\"colorbar\":{\"outlinewidth\":0,\"ticks\":\"\"}},\"type\":\"scatterpolar\"}],\"scatterpolargl\":[{\"marker\":{\"colorbar\":{\"outlinewidth\":0,\"ticks\":\"\"}},\"type\":\"scatterpolargl\"}],\"scatterternary\":[{\"marker\":{\"colorbar\":{\"outlinewidth\":0,\"ticks\":\"\"}},\"type\":\"scatterternary\"}],\"surface\":[{\"colorbar\":{\"outlinewidth\":0,\"ticks\":\"\"},\"colorscale\":[[0.0,\"#0d0887\"],[0.1111111111111111,\"#46039f\"],[0.2222222222222222,\"#7201a8\"],[0.3333333333333333,\"#9c179e\"],[0.4444444444444444,\"#bd3786\"],[0.5555555555555556,\"#d8576b\"],[0.6666666666666666,\"#ed7953\"],[0.7777777777777778,\"#fb9f3a\"],[0.8888888888888888,\"#fdca26\"],[1.0,\"#f0f921\"]],\"type\":\"surface\"}],\"table\":[{\"cells\":{\"fill\":{\"color\":\"#EBF0F8\"},\"line\":{\"color\":\"white\"}},\"header\":{\"fill\":{\"color\":\"#C8D4E3\"},\"line\":{\"color\":\"white\"}},\"type\":\"table\"}]},\"layout\":{\"annotationdefaults\":{\"arrowcolor\":\"#2a3f5f\",\"arrowhead\":0,\"arrowwidth\":1},\"autotypenumbers\":\"strict\",\"coloraxis\":{\"colorbar\":{\"outlinewidth\":0,\"ticks\":\"\"}},\"colorscale\":{\"diverging\":[[0,\"#8e0152\"],[0.1,\"#c51b7d\"],[0.2,\"#de77ae\"],[0.3,\"#f1b6da\"],[0.4,\"#fde0ef\"],[0.5,\"#f7f7f7\"],[0.6,\"#e6f5d0\"],[0.7,\"#b8e186\"],[0.8,\"#7fbc41\"],[0.9,\"#4d9221\"],[1,\"#276419\"]],\"sequential\":[[0.0,\"#0d0887\"],[0.1111111111111111,\"#46039f\"],[0.2222222222222222,\"#7201a8\"],[0.3333333333333333,\"#9c179e\"],[0.4444444444444444,\"#bd3786\"],[0.5555555555555556,\"#d8576b\"],[0.6666666666666666,\"#ed7953\"],[0.7777777777777778,\"#fb9f3a\"],[0.8888888888888888,\"#fdca26\"],[1.0,\"#f0f921\"]],\"sequentialminus\":[[0.0,\"#0d0887\"],[0.1111111111111111,\"#46039f\"],[0.2222222222222222,\"#7201a8\"],[0.3333333333333333,\"#9c179e\"],[0.4444444444444444,\"#bd3786\"],[0.5555555555555556,\"#d8576b\"],[0.6666666666666666,\"#ed7953\"],[0.7777777777777778,\"#fb9f3a\"],[0.8888888888888888,\"#fdca26\"],[1.0,\"#f0f921\"]]},\"colorway\":[\"#636efa\",\"#EF553B\",\"#00cc96\",\"#ab63fa\",\"#FFA15A\",\"#19d3f3\",\"#FF6692\",\"#B6E880\",\"#FF97FF\",\"#FECB52\"],\"font\":{\"color\":\"#2a3f5f\"},\"geo\":{\"bgcolor\":\"white\",\"lakecolor\":\"white\",\"landcolor\":\"#E5ECF6\",\"showlakes\":true,\"showland\":true,\"subunitcolor\":\"white\"},\"hoverlabel\":{\"align\":\"left\"},\"hovermode\":\"closest\",\"mapbox\":{\"style\":\"light\"},\"paper_bgcolor\":\"white\",\"plot_bgcolor\":\"#E5ECF6\",\"polar\":{\"angularaxis\":{\"gridcolor\":\"white\",\"linecolor\":\"white\",\"ticks\":\"\"},\"bgcolor\":\"#E5ECF6\",\"radialaxis\":{\"gridcolor\":\"white\",\"linecolor\":\"white\",\"ticks\":\"\"}},\"scene\":{\"xaxis\":{\"backgroundcolor\":\"#E5ECF6\",\"gridcolor\":\"white\",\"gridwidth\":2,\"linecolor\":\"white\",\"showbackground\":true,\"ticks\":\"\",\"zerolinecolor\":\"white\"},\"yaxis\":{\"backgroundcolor\":\"#E5ECF6\",\"gridcolor\":\"white\",\"gridwidth\":2,\"linecolor\":\"white\",\"showbackground\":true,\"ticks\":\"\",\"zerolinecolor\":\"white\"},\"zaxis\":{\"backgroundcolor\":\"#E5ECF6\",\"gridcolor\":\"white\",\"gridwidth\":2,\"linecolor\":\"white\",\"showbackground\":true,\"ticks\":\"\",\"zerolinecolor\":\"white\"}},\"shapedefaults\":{\"line\":{\"color\":\"#2a3f5f\"}},\"ternary\":{\"aaxis\":{\"gridcolor\":\"white\",\"linecolor\":\"white\",\"ticks\":\"\"},\"baxis\":{\"gridcolor\":\"white\",\"linecolor\":\"white\",\"ticks\":\"\"},\"bgcolor\":\"#E5ECF6\",\"caxis\":{\"gridcolor\":\"white\",\"linecolor\":\"white\",\"ticks\":\"\"}},\"title\":{\"x\":0.05},\"xaxis\":{\"automargin\":true,\"gridcolor\":\"white\",\"linecolor\":\"white\",\"ticks\":\"\",\"title\":{\"standoff\":15},\"zerolinecolor\":\"white\",\"zerolinewidth\":2},\"yaxis\":{\"automargin\":true,\"gridcolor\":\"white\",\"linecolor\":\"white\",\"ticks\":\"\",\"title\":{\"standoff\":15},\"zerolinecolor\":\"white\",\"zerolinewidth\":2}}},\"title\":{\"font\":{\"color\":\"#4D5663\"},\"text\":\"Histograma aninhado\"},\"xaxis\":{\"gridcolor\":\"#E1E5ED\",\"showgrid\":true,\"tickfont\":{\"color\":\"#4D5663\"},\"title\":{\"font\":{\"color\":\"#4D5663\"},\"text\":\"\"},\"zerolinecolor\":\"#E1E5ED\"},\"yaxis\":{\"gridcolor\":\"#E1E5ED\",\"showgrid\":true,\"tickfont\":{\"color\":\"#4D5663\"},\"title\":{\"font\":{\"color\":\"#4D5663\"},\"text\":\"\"},\"zerolinecolor\":\"#E1E5ED\"}},                        {\"showLink\": true, \"linkText\": \"Export to plot.ly\", \"plotlyServerURL\": \"https://plot.ly\", \"responsive\": true}                    ).then(function(){\n",
       "                            \n",
       "var gd = document.getElementById('503fd54a-1de6-42eb-9982-9c9665a55085');\n",
       "var x = new MutationObserver(function (mutations, observer) {{\n",
       "        var display = window.getComputedStyle(gd).display;\n",
       "        if (!display || display === 'none') {{\n",
       "            console.log([gd, 'removed!']);\n",
       "            Plotly.purge(gd);\n",
       "            observer.disconnect();\n",
       "        }}\n",
       "}});\n",
       "\n",
       "// Listen for the removal of the full notebook cells\n",
       "var notebookContainer = gd.closest('#notebook-container');\n",
       "if (notebookContainer) {{\n",
       "    x.observe(notebookContainer, {childList: true});\n",
       "}}\n",
       "\n",
       "// Listen for the clearing of the current output cell\n",
       "var outputEl = gd.closest('.output');\n",
       "if (outputEl) {{\n",
       "    x.observe(outputEl, {childList: true});\n",
       "}}\n",
       "\n",
       "                        })                };                });            </script>        </div>"
      ]
     },
     "metadata": {}
    }
   ],
   "metadata": {}
  }
 ],
 "metadata": {
  "interpreter": {
   "hash": "9dfa00a660552022e5752d25b901b8a7488290bad1288ece14b409d2206f4af7"
  },
  "kernelspec": {
   "name": "python3",
   "display_name": "Python 3.9.7 64-bit ('.venv': venv)"
  },
  "language_info": {
   "codemirror_mode": {
    "name": "ipython",
    "version": 3
   },
   "file_extension": ".py",
   "mimetype": "text/x-python",
   "name": "python",
   "nbconvert_exporter": "python",
   "pygments_lexer": "ipython3",
   "version": "3.9.7"
  }
 },
 "nbformat": 4,
 "nbformat_minor": 4
}