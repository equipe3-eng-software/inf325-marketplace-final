{
 "cells": [
  {
   "cell_type": "code",
   "execution_count": null,
   "source": [
    "from bson.objectid import ObjectId\r\n",
    "from pprintpp import pprint\r\n",
    "from db_trabalho import db\r\n",
    "from plotly.offline import iplot\r\n",
    "import chart_studio.plotly as py\r\n",
    "import cufflinks as cf\r\n",
    "import pandas as pd\r\n",
    "import numpy as np"
   ],
   "outputs": [],
   "metadata": {}
  },
  {
   "cell_type": "markdown",
   "source": [
    "# Análise dos dados"
   ],
   "metadata": {}
  },
  {
   "cell_type": "markdown",
   "source": [
    "### 1. Quantos assinantes são membros tipo \"Gold\"?"
   ],
   "metadata": {}
  },
  {
   "cell_type": "code",
   "execution_count": null,
   "source": [
    "qtd = db.Customer.count_documents({\"membership\": \"gold\"})\r\n",
    "docs = db.Customer.find({\"membership\": \"gold\"}).limit(10)\r\n",
    "pprint(\"Total de membros Gold\")\r\n",
    "pprint(qtd)\r\n",
    "pprint(list(docs))"
   ],
   "outputs": [],
   "metadata": {}
  },
  {
   "cell_type": "code",
   "execution_count": null,
   "source": [
    "df = pd.DataFrame(db.Customer.find({\"membership\": \"gold\"}))\r\n",
    "df.head()"
   ],
   "outputs": [],
   "metadata": {}
  },
  {
   "cell_type": "code",
   "execution_count": null,
   "source": [
    "cf.go_offline()\r\n",
    "df['subscription'].iplot(kind='hist', bins=50, title='Histograma da coluna subscription')"
   ],
   "outputs": [],
   "metadata": {}
  },
  {
   "cell_type": "markdown",
   "source": [
    "### 2. Quantos assinantes são do tipo \"Silver\"?"
   ],
   "metadata": {}
  },
  {
   "cell_type": "code",
   "execution_count": null,
   "source": [
    "qtd = db.Customer.count_documents({\"membership\": \"silver\"})\r\n",
    "docs = db.Customer.find({\"membership\": \"silver\"}).limit(10)\r\n",
    "pprint(\"Total de membros Silver\")\r\n",
    "pprint(qtd)\r\n",
    "pprint(list(docs))"
   ],
   "outputs": [],
   "metadata": {}
  },
  {
   "cell_type": "code",
   "execution_count": null,
   "source": [
    "df = pd.DataFrame(db.Customer.find({\"membership\": \"silver\"}))\r\n",
    "df.head()"
   ],
   "outputs": [],
   "metadata": {}
  },
  {
   "cell_type": "code",
   "execution_count": null,
   "source": [
    "cf.go_offline()\r\n",
    "df['subscription'].iplot(kind='hist', bins=50, title='Histograma da coluna subscription')"
   ],
   "outputs": [],
   "metadata": {}
  },
  {
   "cell_type": "markdown",
   "source": [
    "### 3. Quantos assinantes são membros tipo \"Platinum\"?"
   ],
   "metadata": {}
  },
  {
   "cell_type": "code",
   "execution_count": null,
   "source": [
    "qtd = db.Customer.count_documents({\"membership\": \"platinum\"})\r\n",
    "docs = db.Customer.find({\"membership\": \"platinum\"}).limit(10)\r\n",
    "pprint(\"Total de membros Platinum\")\r\n",
    "pprint(qtd)\r\n",
    "pprint(list(docs))"
   ],
   "outputs": [],
   "metadata": {}
  },
  {
   "cell_type": "code",
   "execution_count": null,
   "source": [
    "df = pd.DataFrame(db.Customer.find({\"membership\": \"platinum\"}))\r\n",
    "df.head()"
   ],
   "outputs": [],
   "metadata": {}
  },
  {
   "cell_type": "code",
   "execution_count": null,
   "source": [
    "cf.go_offline()\r\n",
    "df['subscription'].iplot(kind='hist', bins=50, title='Histograma da coluna subscription')"
   ],
   "outputs": [],
   "metadata": {}
  },
  {
   "cell_type": "markdown",
   "source": [
    "### 4. Quantos assinantes estão ativos no momento?"
   ],
   "metadata": {}
  },
  {
   "cell_type": "code",
   "execution_count": null,
   "source": [
    "Qtdocs = db.Membership.count_documents({\"status\": \"Ativo\"})\r\n",
    "docs = db.Membership.find({\"status\": \"Ativo\"})\r\n",
    "pprint(\"Total de ativos\")\r\n",
    "pprint(Qtdocs)\r\n",
    "pprint(list(docs))"
   ],
   "outputs": [],
   "metadata": {}
  },
  {
   "cell_type": "code",
   "execution_count": null,
   "source": [
    "df = pd.DataFrame(db.Membership.find({\"status\": \"Ativo\"}))\r\n",
    "df.head()"
   ],
   "outputs": [],
   "metadata": {}
  },
  {
   "cell_type": "code",
   "execution_count": null,
   "source": [
    "cf.go_offline()\r\n",
    "df['payment'].iplot(kind='hist', bins=50, title='Histograma da coluna Payments')"
   ],
   "outputs": [],
   "metadata": {}
  },
  {
   "cell_type": "code",
   "execution_count": null,
   "source": [
    "cf.go_offline()\r\n",
    "df['membership'].iplot(kind='hist', bins=50, title='Histograma da coluna Membership')"
   ],
   "outputs": [],
   "metadata": {}
  },
  {
   "cell_type": "code",
   "execution_count": null,
   "source": [
    "cf.go_offline()\r\n",
    "df['subscription'].iplot(kind='hist', bins=50, title='Histograma da coluna Subscription')"
   ],
   "outputs": [],
   "metadata": {}
  },
  {
   "cell_type": "markdown",
   "source": [
    "### 4. "
   ],
   "metadata": {}
  }
 ],
 "metadata": {
  "interpreter": {
   "hash": "9dfa00a660552022e5752d25b901b8a7488290bad1288ece14b409d2206f4af7"
  },
  "kernelspec": {
   "name": "python3",
   "display_name": "Python 3.9.7 64-bit ('.venv': venv)"
  },
  "language_info": {
   "codemirror_mode": {
    "name": "ipython",
    "version": 3
   },
   "file_extension": ".py",
   "mimetype": "text/x-python",
   "name": "python",
   "nbconvert_exporter": "python",
   "pygments_lexer": "ipython3",
   "version": "3.9.7"
  }
 },
 "nbformat": 4,
 "nbformat_minor": 4
}