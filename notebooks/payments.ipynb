{
 "cells": [
  {
   "cell_type": "code",
   "execution_count": 1,
   "source": [
    "from bson.objectid import ObjectId\r\n",
    "from pprintpp import pprint\r\n",
    "from db_trabalho import db"
   ],
   "outputs": [],
   "metadata": {
    "tags": []
   }
  },
  {
   "cell_type": "markdown",
   "source": [
    "# Payments"
   ],
   "metadata": {
    "tags": []
   }
  },
  {
   "cell_type": "markdown",
   "source": [
    "### Create"
   ],
   "metadata": {}
  },
  {
   "cell_type": "code",
   "execution_count": null,
   "source": [
    "new_docs = []\r\n",
    "db.Payment.insert_many(new_docs)"
   ],
   "outputs": [],
   "metadata": {}
  },
  {
   "cell_type": "markdown",
   "source": [
    "### List all"
   ],
   "metadata": {}
  },
  {
   "cell_type": "code",
   "execution_count": 2,
   "source": [
    "docs = db.Payment.find().limit(10)\r\n",
    "pprint(list(docs))"
   ],
   "outputs": [
    {
     "output_type": "stream",
     "name": "stdout",
     "text": [
      "[\n",
      "    {\n",
      "        '_id': ObjectId('6139456933d5c70133145a1c'),\n",
      "        'currency': 'BRL',\n",
      "        'method': 'credit-card',\n",
      "        'name': 'Cartão de Crédito',\n",
      "    },\n",
      "    {\n",
      "        '_id': ObjectId('6139456933d5c70133145a1d'),\n",
      "        'currency': 'BRL',\n",
      "        'method': 'ticket',\n",
      "        'name': 'Boleto',\n",
      "    },\n",
      "    {\n",
      "        '_id': ObjectId('6139456933d5c70133145a1e'),\n",
      "        'currency': 'BRL',\n",
      "        'method': 'pix',\n",
      "        'name': 'PIX',\n",
      "    },\n",
      "    {\n",
      "        '_id': ObjectId('613ab12dd12d2b64b277ef0b'),\n",
      "        'currency': 'BRL',\n",
      "        'method': 'credit-card',\n",
      "        'name': 'CartÃ£o de CrÃ©dito',\n",
      "    },\n",
      "    {\n",
      "        '_id': ObjectId('613ab12dd12d2b64b277ef0c'),\n",
      "        'currency': 'BRL',\n",
      "        'method': 'ticket',\n",
      "        'name': 'Boleto',\n",
      "    },\n",
      "    {\n",
      "        '_id': ObjectId('613ab12dd12d2b64b277ef0d'),\n",
      "        'currency': 'BRL',\n",
      "        'method': 'pix',\n",
      "        'name': 'PIX',\n",
      "    },\n",
      "]\n"
     ]
    }
   ],
   "metadata": {}
  },
  {
   "cell_type": "markdown",
   "source": [
    "### Update by object id"
   ],
   "metadata": {}
  },
  {
   "cell_type": "code",
   "execution_count": null,
   "source": [
    "db.Payment.update_one(\r\n",
    "    { \"_id\": ObjectId(\"6139462533d5c70133145a20\") },\r\n",
    "    {\r\n",
    "        \"$set\": {}\r\n",
    "    },\r\n",
    "    upsert=False\r\n",
    ")"
   ],
   "outputs": [],
   "metadata": {}
  },
  {
   "cell_type": "markdown",
   "source": [
    "### Delete by object id"
   ],
   "metadata": {}
  },
  {
   "cell_type": "code",
   "execution_count": null,
   "source": [
    "db.Payment.delete_one({ \"_id\": ObjectId(\"6139460a33d5c70133145a1f\") })"
   ],
   "outputs": [],
   "metadata": {}
  }
 ],
 "metadata": {
  "kernelspec": {
   "name": "python3",
   "display_name": "Python 3.9.7 64-bit ('.venv')"
  },
  "language_info": {
   "codemirror_mode": {
    "name": "ipython",
    "version": 3
   },
   "file_extension": ".py",
   "mimetype": "text/x-python",
   "name": "python",
   "nbconvert_exporter": "python",
   "pygments_lexer": "ipython3",
   "version": "3.9.7"
  },
  "interpreter": {
   "hash": "baacd89bf0299d856a6d7eb543c351146d15f47379e4c8c5cbcfb4329735e60b"
  }
 },
 "nbformat": 4,
 "nbformat_minor": 5
}