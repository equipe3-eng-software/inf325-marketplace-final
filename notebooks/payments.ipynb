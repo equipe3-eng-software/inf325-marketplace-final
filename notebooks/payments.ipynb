{
 "cells": [
  {
   "cell_type": "code",
   "execution_count": 1,
   "id": "544e312d",
   "metadata": {
    "tags": []
   },
   "outputs": [],
   "source": [
    "from bson.objectid import ObjectId\r\n",
    "from pprintpp import pprint\r\n",
    "from db_trabalho import db"
   ]
  },
  {
   "cell_type": "markdown",
   "id": "8287ca38",
   "metadata": {
    "tags": []
   },
   "source": [
    "# Payments"
   ]
  },
  {
   "cell_type": "markdown",
   "id": "0655328c",
   "metadata": {},
   "source": [
    "### Create"
   ]
  },
  {
   "cell_type": "code",
   "execution_count": null,
   "id": "2f0d043d",
   "metadata": {},
   "outputs": [],
   "source": [
    "new_docs = []\r\n",
    "db.Payment.insert_many(new_docs)"
   ]
  },
  {
   "cell_type": "markdown",
   "id": "2cb2ad84",
   "metadata": {},
   "source": [
    "### List all"
   ]
  },
  {
   "cell_type": "code",
   "execution_count": 2,
   "id": "54d1c257",
   "metadata": {},
   "outputs": [
    {
     "name": "stdout",
     "output_type": "stream",
     "text": [
      "[\n",
      "    {\n",
      "        '_id': ObjectId('6139456933d5c70133145a1c'),\n",
      "        'currency': 'BRL',\n",
      "        'method': 'credit-card',\n",
      "        'name': 'Cartão de Crédito',\n",
      "    },\n",
      "    {\n",
      "        '_id': ObjectId('6139456933d5c70133145a1d'),\n",
      "        'currency': 'BRL',\n",
      "        'method': 'ticket',\n",
      "        'name': 'Boleto',\n",
      "    },\n",
      "    {\n",
      "        '_id': ObjectId('6139456933d5c70133145a1e'),\n",
      "        'currency': 'BRL',\n",
      "        'method': 'pix',\n",
      "        'name': 'PIX',\n",
      "    },\n",
      "    {\n",
      "        '_id': ObjectId('613ab12dd12d2b64b277ef0b'),\n",
      "        'currency': 'BRL',\n",
      "        'method': 'credit-card',\n",
      "        'name': 'CartÃ£o de CrÃ©dito',\n",
      "    },\n",
      "    {\n",
      "        '_id': ObjectId('613ab12dd12d2b64b277ef0c'),\n",
      "        'currency': 'BRL',\n",
      "        'method': 'ticket',\n",
      "        'name': 'Boleto',\n",
      "    },\n",
      "    {\n",
      "        '_id': ObjectId('613ab12dd12d2b64b277ef0d'),\n",
      "        'currency': 'BRL',\n",
      "        'method': 'pix',\n",
      "        'name': 'PIX',\n",
      "    },\n",
      "]\n"
     ]
    }
   ],
   "source": [
    "docs = db.Payment.find().limit(10)\r\n",
    "pprint(list(docs))"
   ]
  },
  {
   "cell_type": "markdown",
   "id": "4e8cef69",
   "metadata": {},
   "source": [
    "### Update by object id"
   ]
  },
  {
   "cell_type": "code",
   "execution_count": null,
   "id": "a3b9cd44",
   "metadata": {},
   "outputs": [],
   "source": [
    "db.Payment.update_one(\r\n",
    "    { \"_id\": ObjectId(\"6139462533d5c70133145a20\") },\r\n",
    "    {\r\n",
    "        \"$set\": {}\r\n",
    "    },\r\n",
    "    upsert=False\r\n",
    ")"
   ]
  },
  {
   "cell_type": "markdown",
   "id": "cc75e01d",
   "metadata": {},
   "source": [
    "### Delete by object id"
   ]
  },
  {
   "cell_type": "code",
   "execution_count": null,
   "id": "4b4d359e",
   "metadata": {},
   "outputs": [],
   "source": [
    "db.Payment.delete_one({ \"_id\": ObjectId(\"6139460a33d5c70133145a1f\") })"
   ]
  }
 ],
 "metadata": {
  "interpreter": {
   "hash": "baacd89bf0299d856a6d7eb543c351146d15f47379e4c8c5cbcfb4329735e60b"
  },
  "kernelspec": {
   "display_name": "Python 3 (ipykernel)",
   "language": "python",
   "name": "python3"
  },
  "language_info": {
   "codemirror_mode": {
    "name": "ipython",
    "version": 3
   },
   "file_extension": ".py",
   "mimetype": "text/x-python",
   "name": "python",
   "nbconvert_exporter": "python",
   "pygments_lexer": "ipython3",
   "version": "3.9.7"
  }
 },
 "nbformat": 4,
 "nbformat_minor": 5
}
