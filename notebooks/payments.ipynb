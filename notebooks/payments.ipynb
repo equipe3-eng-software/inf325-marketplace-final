{
 "cells": [
  {
   "cell_type": "code",
   "execution_count": null,
   "id": "d0050ca5",
   "metadata": {
    "tags": []
   },
   "outputs": [],
   "source": [
    "from bson.objectid import ObjectId\r\n",
    "from pprintpp import pprint\r\n",
    "from db_trabalho import db"
   ]
  },
  {
   "cell_type": "markdown",
   "id": "d8d9ea96",
   "metadata": {
    "tags": []
   },
   "source": [
    "# Payments"
   ]
  },
  {
   "cell_type": "markdown",
   "id": "c760c1e0",
   "metadata": {},
   "source": [
    "### Create"
   ]
  },
  {
   "cell_type": "code",
   "execution_count": null,
   "id": "eebf1864",
   "metadata": {},
   "outputs": [],
   "source": [
    "new_docs = []\r\n",
    "db.Payment.insert_many(new_docs)"
   ]
  },
  {
   "cell_type": "markdown",
   "id": "6663db19",
   "metadata": {},
   "source": [
    "### List all"
   ]
  },
  {
   "cell_type": "code",
   "execution_count": null,
   "id": "6e903e6c",
   "metadata": {},
   "outputs": [],
   "source": [
    "docs = db.Payment.find().limit(10)\r\n",
    "pprint(list(docs))"
   ]
  },
  {
   "cell_type": "markdown",
   "id": "65afd66a",
   "metadata": {},
   "source": [
    "### Update by object id"
   ]
  },
  {
   "cell_type": "code",
   "execution_count": null,
   "id": "eb5d9f5e",
   "metadata": {},
   "outputs": [],
   "source": [
    "db.Payment.update_one(\r\n",
    "    { \"_id\": ObjectId(\"6139462533d5c70133145a20\") },\r\n",
    "    {\r\n",
    "        \"$set\": {}\r\n",
    "    },\r\n",
    "    upsert=False\r\n",
    ")"
   ]
  },
  {
   "cell_type": "markdown",
   "id": "80ef198b",
   "metadata": {},
   "source": [
    "### Delete by object id"
   ]
  },
  {
   "cell_type": "code",
   "execution_count": null,
   "id": "2ecac5ac",
   "metadata": {},
   "outputs": [],
   "source": [
    "db.Payment.delete_one({ \"_id\": ObjectId(\"6139460a33d5c70133145a1f\") })"
   ]
  }
 ],
 "metadata": {
  "interpreter": {
   "hash": "baacd89bf0299d856a6d7eb543c351146d15f47379e4c8c5cbcfb4329735e60b"
  },
  "kernelspec": {
   "display_name": "Python 3 (ipykernel)",
   "language": "python",
   "name": "python3"
  },
  "language_info": {
   "codemirror_mode": {
    "name": "ipython",
    "version": 3
   },
   "file_extension": ".py",
   "mimetype": "text/x-python",
   "name": "python",
   "nbconvert_exporter": "python",
   "pygments_lexer": "ipython3",
   "version": "3.9.7"
  }
 },
 "nbformat": 4,
 "nbformat_minor": 5
}
