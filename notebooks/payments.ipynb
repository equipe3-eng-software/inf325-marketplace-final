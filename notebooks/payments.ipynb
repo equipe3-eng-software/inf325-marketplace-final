{
 "cells": [
  {
   "cell_type": "code",
   "execution_count": 2,
   "id": "10724c2c-3747-4367-9f5f-ed424991890d",
   "metadata": {
    "tags": []
   },
   "outputs": [],
   "source": [
    "from bson.objectid import ObjectId\n",
    "from pprintpp import pprint\n",
    "from db_connect import db"
   ]
  },
  {
   "cell_type": "markdown",
   "id": "40066e64-b190-45b3-acbc-ec419173ed05",
   "metadata": {
    "tags": []
   },
   "source": [
    "# Payments"
   ]
  },
  {
   "cell_type": "markdown",
   "id": "2f272897-ef0f-4b4a-8059-694b60a870e7",
   "metadata": {},
   "source": [
    "### Create"
   ]
  },
  {
   "cell_type": "code",
   "execution_count": null,
   "id": "a050cd75-08fe-4cc6-9023-319e486d17d0",
   "metadata": {},
   "outputs": [],
   "source": [
    "new_docs = []\n",
    "db.Payment.insert_many(new_docs)"
   ]
  },
  {
   "cell_type": "markdown",
   "id": "811af74d-5964-4e27-8f64-56974e9cb753",
   "metadata": {},
   "source": [
    "### List all"
   ]
  },
  {
   "cell_type": "code",
   "execution_count": 4,
   "id": "f5552609-ef48-4bd5-abd2-01ab5d3bce21",
   "metadata": {},
   "outputs": [
    {
     "name": "stdout",
     "output_type": "stream",
     "text": [
      "[\n",
      "    {\n",
      "        '_id': ObjectId('6139456933d5c70133145a1c'),\n",
      "        'currency': 'BRL',\n",
      "        'method': 'credit-card',\n",
      "        'name': 'Cartão de Crédito',\n",
      "    },\n",
      "    {\n",
      "        '_id': ObjectId('6139456933d5c70133145a1d'),\n",
      "        'currency': 'BRL',\n",
      "        'method': 'ticket',\n",
      "        'name': 'Boleto',\n",
      "    },\n",
      "    {\n",
      "        '_id': ObjectId('6139456933d5c70133145a1e'),\n",
      "        'currency': 'BRL',\n",
      "        'method': 'pix',\n",
      "        'name': 'PIX',\n",
      "    },\n",
      "]\n"
     ]
    }
   ],
   "source": [
    "docs = db.Payment.find().limit(10)\n",
    "pprint(list(docs))"
   ]
  },
  {
   "cell_type": "markdown",
   "id": "432b9e48-0acc-4af7-ad19-df286e5d8ec3",
   "metadata": {},
   "source": [
    "### Update by object id"
   ]
  },
  {
   "cell_type": "code",
   "execution_count": null,
   "id": "d4b2f649-77dc-450c-9f8a-c0bd88af4f59",
   "metadata": {},
   "outputs": [],
   "source": [
    "db.Payment.update_one(\n",
    "    { \"_id\": ObjectId(\"6139462533d5c70133145a20\") },\n",
    "    {\n",
    "        \"$set\": {}\n",
    "    },\n",
    "    upsert=False\n",
    ")"
   ]
  },
  {
   "cell_type": "markdown",
   "id": "83cf4398-bd60-4fc6-af85-25b0a92fda9f",
   "metadata": {},
   "source": [
    "### Delete by object id"
   ]
  },
  {
   "cell_type": "code",
   "execution_count": null,
   "id": "45b9adc3-428f-4b72-b8f6-f1e7e66615c4",
   "metadata": {},
   "outputs": [],
   "source": [
    "db.Payment.delete_one({ \"_id\": ObjectId(\"6139460a33d5c70133145a1f\") })"
   ]
  }
 ],
 "metadata": {
  "kernelspec": {
   "display_name": "Python 3 (ipykernel)",
   "language": "python",
   "name": "python3"
  },
  "language_info": {
   "codemirror_mode": {
    "name": "ipython",
    "version": 3
   },
   "file_extension": ".py",
   "mimetype": "text/x-python",
   "name": "python",
   "nbconvert_exporter": "python",
   "pygments_lexer": "ipython3",
   "version": "3.9.7"
  }
 },
 "nbformat": 4,
 "nbformat_minor": 5
}
